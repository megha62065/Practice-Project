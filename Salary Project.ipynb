{
 "cells": [
  {
   "cell_type": "code",
   "execution_count": 1,
   "id": "71486cc5",
   "metadata": {},
   "outputs": [],
   "source": [
    "import pandas as pd\n",
    "import numpy as np\n",
    "import matplotlib.pyplot as plt"
   ]
  },
  {
   "cell_type": "code",
   "execution_count": 2,
   "id": "d3b60e7f",
   "metadata": {},
   "outputs": [
    {
     "data": {
      "text/html": [
       "<div>\n",
       "<style scoped>\n",
       "    .dataframe tbody tr th:only-of-type {\n",
       "        vertical-align: middle;\n",
       "    }\n",
       "\n",
       "    .dataframe tbody tr th {\n",
       "        vertical-align: top;\n",
       "    }\n",
       "\n",
       "    .dataframe thead th {\n",
       "        text-align: right;\n",
       "    }\n",
       "</style>\n",
       "<table border=\"1\" class=\"dataframe\">\n",
       "  <thead>\n",
       "    <tr style=\"text-align: right;\">\n",
       "      <th></th>\n",
       "      <th>rank</th>\n",
       "      <th>discipline</th>\n",
       "      <th>yrs.since.phd</th>\n",
       "      <th>yrs.service</th>\n",
       "      <th>sex</th>\n",
       "      <th>salary</th>\n",
       "    </tr>\n",
       "  </thead>\n",
       "  <tbody>\n",
       "    <tr>\n",
       "      <th>0</th>\n",
       "      <td>Prof</td>\n",
       "      <td>B</td>\n",
       "      <td>19</td>\n",
       "      <td>18</td>\n",
       "      <td>Male</td>\n",
       "      <td>139750</td>\n",
       "    </tr>\n",
       "    <tr>\n",
       "      <th>1</th>\n",
       "      <td>Prof</td>\n",
       "      <td>B</td>\n",
       "      <td>20</td>\n",
       "      <td>16</td>\n",
       "      <td>Male</td>\n",
       "      <td>173200</td>\n",
       "    </tr>\n",
       "    <tr>\n",
       "      <th>2</th>\n",
       "      <td>AsstProf</td>\n",
       "      <td>B</td>\n",
       "      <td>4</td>\n",
       "      <td>3</td>\n",
       "      <td>Male</td>\n",
       "      <td>79750</td>\n",
       "    </tr>\n",
       "    <tr>\n",
       "      <th>3</th>\n",
       "      <td>Prof</td>\n",
       "      <td>B</td>\n",
       "      <td>45</td>\n",
       "      <td>39</td>\n",
       "      <td>Male</td>\n",
       "      <td>115000</td>\n",
       "    </tr>\n",
       "    <tr>\n",
       "      <th>4</th>\n",
       "      <td>Prof</td>\n",
       "      <td>B</td>\n",
       "      <td>40</td>\n",
       "      <td>41</td>\n",
       "      <td>Male</td>\n",
       "      <td>141500</td>\n",
       "    </tr>\n",
       "    <tr>\n",
       "      <th>...</th>\n",
       "      <td>...</td>\n",
       "      <td>...</td>\n",
       "      <td>...</td>\n",
       "      <td>...</td>\n",
       "      <td>...</td>\n",
       "      <td>...</td>\n",
       "    </tr>\n",
       "    <tr>\n",
       "      <th>392</th>\n",
       "      <td>Prof</td>\n",
       "      <td>A</td>\n",
       "      <td>33</td>\n",
       "      <td>30</td>\n",
       "      <td>Male</td>\n",
       "      <td>103106</td>\n",
       "    </tr>\n",
       "    <tr>\n",
       "      <th>393</th>\n",
       "      <td>Prof</td>\n",
       "      <td>A</td>\n",
       "      <td>31</td>\n",
       "      <td>19</td>\n",
       "      <td>Male</td>\n",
       "      <td>150564</td>\n",
       "    </tr>\n",
       "    <tr>\n",
       "      <th>394</th>\n",
       "      <td>Prof</td>\n",
       "      <td>A</td>\n",
       "      <td>42</td>\n",
       "      <td>25</td>\n",
       "      <td>Male</td>\n",
       "      <td>101738</td>\n",
       "    </tr>\n",
       "    <tr>\n",
       "      <th>395</th>\n",
       "      <td>Prof</td>\n",
       "      <td>A</td>\n",
       "      <td>25</td>\n",
       "      <td>15</td>\n",
       "      <td>Male</td>\n",
       "      <td>95329</td>\n",
       "    </tr>\n",
       "    <tr>\n",
       "      <th>396</th>\n",
       "      <td>AsstProf</td>\n",
       "      <td>A</td>\n",
       "      <td>8</td>\n",
       "      <td>4</td>\n",
       "      <td>Male</td>\n",
       "      <td>81035</td>\n",
       "    </tr>\n",
       "  </tbody>\n",
       "</table>\n",
       "<p>397 rows × 6 columns</p>\n",
       "</div>"
      ],
      "text/plain": [
       "         rank discipline  yrs.since.phd  yrs.service   sex  salary\n",
       "0        Prof          B             19           18  Male  139750\n",
       "1        Prof          B             20           16  Male  173200\n",
       "2    AsstProf          B              4            3  Male   79750\n",
       "3        Prof          B             45           39  Male  115000\n",
       "4        Prof          B             40           41  Male  141500\n",
       "..        ...        ...            ...          ...   ...     ...\n",
       "392      Prof          A             33           30  Male  103106\n",
       "393      Prof          A             31           19  Male  150564\n",
       "394      Prof          A             42           25  Male  101738\n",
       "395      Prof          A             25           15  Male   95329\n",
       "396  AsstProf          A              8            4  Male   81035\n",
       "\n",
       "[397 rows x 6 columns]"
      ]
     },
     "execution_count": 2,
     "metadata": {},
     "output_type": "execute_result"
    }
   ],
   "source": [
    "df=pd.read_csv(\"https://raw.githubusercontent.com/dsrscientist/dataset3/main/Salaries.csv\")\n",
    "df"
   ]
  },
  {
   "cell_type": "code",
   "execution_count": 3,
   "id": "13fb826f",
   "metadata": {},
   "outputs": [
    {
     "data": {
      "text/plain": [
       "pandas.core.frame.DataFrame"
      ]
     },
     "execution_count": 3,
     "metadata": {},
     "output_type": "execute_result"
    }
   ],
   "source": [
    "type(df)"
   ]
  },
  {
   "cell_type": "code",
   "execution_count": 4,
   "id": "e76b5647",
   "metadata": {},
   "outputs": [
    {
     "data": {
      "text/html": [
       "<div>\n",
       "<style scoped>\n",
       "    .dataframe tbody tr th:only-of-type {\n",
       "        vertical-align: middle;\n",
       "    }\n",
       "\n",
       "    .dataframe tbody tr th {\n",
       "        vertical-align: top;\n",
       "    }\n",
       "\n",
       "    .dataframe thead th {\n",
       "        text-align: right;\n",
       "    }\n",
       "</style>\n",
       "<table border=\"1\" class=\"dataframe\">\n",
       "  <thead>\n",
       "    <tr style=\"text-align: right;\">\n",
       "      <th></th>\n",
       "      <th>rank</th>\n",
       "      <th>discipline</th>\n",
       "      <th>yrs.since.phd</th>\n",
       "      <th>yrs.service</th>\n",
       "      <th>sex</th>\n",
       "      <th>salary</th>\n",
       "    </tr>\n",
       "  </thead>\n",
       "  <tbody>\n",
       "    <tr>\n",
       "      <th>0</th>\n",
       "      <td>Prof</td>\n",
       "      <td>B</td>\n",
       "      <td>19</td>\n",
       "      <td>18</td>\n",
       "      <td>Male</td>\n",
       "      <td>139750</td>\n",
       "    </tr>\n",
       "    <tr>\n",
       "      <th>1</th>\n",
       "      <td>Prof</td>\n",
       "      <td>B</td>\n",
       "      <td>20</td>\n",
       "      <td>16</td>\n",
       "      <td>Male</td>\n",
       "      <td>173200</td>\n",
       "    </tr>\n",
       "    <tr>\n",
       "      <th>2</th>\n",
       "      <td>AsstProf</td>\n",
       "      <td>B</td>\n",
       "      <td>4</td>\n",
       "      <td>3</td>\n",
       "      <td>Male</td>\n",
       "      <td>79750</td>\n",
       "    </tr>\n",
       "    <tr>\n",
       "      <th>3</th>\n",
       "      <td>Prof</td>\n",
       "      <td>B</td>\n",
       "      <td>45</td>\n",
       "      <td>39</td>\n",
       "      <td>Male</td>\n",
       "      <td>115000</td>\n",
       "    </tr>\n",
       "    <tr>\n",
       "      <th>4</th>\n",
       "      <td>Prof</td>\n",
       "      <td>B</td>\n",
       "      <td>40</td>\n",
       "      <td>41</td>\n",
       "      <td>Male</td>\n",
       "      <td>141500</td>\n",
       "    </tr>\n",
       "  </tbody>\n",
       "</table>\n",
       "</div>"
      ],
      "text/plain": [
       "       rank discipline  yrs.since.phd  yrs.service   sex  salary\n",
       "0      Prof          B             19           18  Male  139750\n",
       "1      Prof          B             20           16  Male  173200\n",
       "2  AsstProf          B              4            3  Male   79750\n",
       "3      Prof          B             45           39  Male  115000\n",
       "4      Prof          B             40           41  Male  141500"
      ]
     },
     "execution_count": 4,
     "metadata": {},
     "output_type": "execute_result"
    }
   ],
   "source": [
    "df.head()"
   ]
  },
  {
   "cell_type": "code",
   "execution_count": 5,
   "id": "b6d73d4b",
   "metadata": {},
   "outputs": [
    {
     "data": {
      "text/html": [
       "<div>\n",
       "<style scoped>\n",
       "    .dataframe tbody tr th:only-of-type {\n",
       "        vertical-align: middle;\n",
       "    }\n",
       "\n",
       "    .dataframe tbody tr th {\n",
       "        vertical-align: top;\n",
       "    }\n",
       "\n",
       "    .dataframe thead th {\n",
       "        text-align: right;\n",
       "    }\n",
       "</style>\n",
       "<table border=\"1\" class=\"dataframe\">\n",
       "  <thead>\n",
       "    <tr style=\"text-align: right;\">\n",
       "      <th></th>\n",
       "      <th>rank</th>\n",
       "      <th>discipline</th>\n",
       "      <th>yrs.since.phd</th>\n",
       "      <th>yrs.service</th>\n",
       "      <th>sex</th>\n",
       "      <th>salary</th>\n",
       "    </tr>\n",
       "  </thead>\n",
       "  <tbody>\n",
       "    <tr>\n",
       "      <th>392</th>\n",
       "      <td>Prof</td>\n",
       "      <td>A</td>\n",
       "      <td>33</td>\n",
       "      <td>30</td>\n",
       "      <td>Male</td>\n",
       "      <td>103106</td>\n",
       "    </tr>\n",
       "    <tr>\n",
       "      <th>393</th>\n",
       "      <td>Prof</td>\n",
       "      <td>A</td>\n",
       "      <td>31</td>\n",
       "      <td>19</td>\n",
       "      <td>Male</td>\n",
       "      <td>150564</td>\n",
       "    </tr>\n",
       "    <tr>\n",
       "      <th>394</th>\n",
       "      <td>Prof</td>\n",
       "      <td>A</td>\n",
       "      <td>42</td>\n",
       "      <td>25</td>\n",
       "      <td>Male</td>\n",
       "      <td>101738</td>\n",
       "    </tr>\n",
       "    <tr>\n",
       "      <th>395</th>\n",
       "      <td>Prof</td>\n",
       "      <td>A</td>\n",
       "      <td>25</td>\n",
       "      <td>15</td>\n",
       "      <td>Male</td>\n",
       "      <td>95329</td>\n",
       "    </tr>\n",
       "    <tr>\n",
       "      <th>396</th>\n",
       "      <td>AsstProf</td>\n",
       "      <td>A</td>\n",
       "      <td>8</td>\n",
       "      <td>4</td>\n",
       "      <td>Male</td>\n",
       "      <td>81035</td>\n",
       "    </tr>\n",
       "  </tbody>\n",
       "</table>\n",
       "</div>"
      ],
      "text/plain": [
       "         rank discipline  yrs.since.phd  yrs.service   sex  salary\n",
       "392      Prof          A             33           30  Male  103106\n",
       "393      Prof          A             31           19  Male  150564\n",
       "394      Prof          A             42           25  Male  101738\n",
       "395      Prof          A             25           15  Male   95329\n",
       "396  AsstProf          A              8            4  Male   81035"
      ]
     },
     "execution_count": 5,
     "metadata": {},
     "output_type": "execute_result"
    }
   ],
   "source": [
    "df.tail()"
   ]
  },
  {
   "cell_type": "code",
   "execution_count": 6,
   "id": "c922bfe9",
   "metadata": {},
   "outputs": [
    {
     "data": {
      "text/html": [
       "<div>\n",
       "<style scoped>\n",
       "    .dataframe tbody tr th:only-of-type {\n",
       "        vertical-align: middle;\n",
       "    }\n",
       "\n",
       "    .dataframe tbody tr th {\n",
       "        vertical-align: top;\n",
       "    }\n",
       "\n",
       "    .dataframe thead th {\n",
       "        text-align: right;\n",
       "    }\n",
       "</style>\n",
       "<table border=\"1\" class=\"dataframe\">\n",
       "  <thead>\n",
       "    <tr style=\"text-align: right;\">\n",
       "      <th></th>\n",
       "      <th>rank</th>\n",
       "      <th>discipline</th>\n",
       "      <th>yrs.since.phd</th>\n",
       "      <th>yrs.service</th>\n",
       "      <th>sex</th>\n",
       "      <th>salary</th>\n",
       "    </tr>\n",
       "  </thead>\n",
       "  <tbody>\n",
       "    <tr>\n",
       "      <th>378</th>\n",
       "      <td>Prof</td>\n",
       "      <td>A</td>\n",
       "      <td>38</td>\n",
       "      <td>38</td>\n",
       "      <td>Male</td>\n",
       "      <td>150680</td>\n",
       "    </tr>\n",
       "  </tbody>\n",
       "</table>\n",
       "</div>"
      ],
      "text/plain": [
       "     rank discipline  yrs.since.phd  yrs.service   sex  salary\n",
       "378  Prof          A             38           38  Male  150680"
      ]
     },
     "execution_count": 6,
     "metadata": {},
     "output_type": "execute_result"
    }
   ],
   "source": [
    "df.sample()"
   ]
  },
  {
   "cell_type": "code",
   "execution_count": 7,
   "id": "56c23ac5",
   "metadata": {},
   "outputs": [
    {
     "data": {
      "text/plain": [
       "pandas.core.indexes.base.Index"
      ]
     },
     "execution_count": 7,
     "metadata": {},
     "output_type": "execute_result"
    }
   ],
   "source": [
    "# indexes at axis=1\n",
    "type(df.columns)"
   ]
  },
  {
   "cell_type": "code",
   "execution_count": 8,
   "id": "6da33a50",
   "metadata": {},
   "outputs": [
    {
     "data": {
      "text/plain": [
       "Index(['rank', 'discipline', 'yrs.since.phd', 'yrs.service', 'sex', 'salary'], dtype='object')"
      ]
     },
     "execution_count": 8,
     "metadata": {},
     "output_type": "execute_result"
    }
   ],
   "source": [
    "df.columns"
   ]
  },
  {
   "cell_type": "markdown",
   "id": "0c9dbfff",
   "metadata": {},
   "source": [
    "# Null values"
   ]
  },
  {
   "cell_type": "code",
   "execution_count": 9,
   "id": "2d89fbc5",
   "metadata": {},
   "outputs": [
    {
     "data": {
      "text/plain": [
       "rank             0\n",
       "discipline       0\n",
       "yrs.since.phd    0\n",
       "yrs.service      0\n",
       "sex              0\n",
       "salary           0\n",
       "dtype: int64"
      ]
     },
     "execution_count": 9,
     "metadata": {},
     "output_type": "execute_result"
    }
   ],
   "source": [
    "df.isnull().sum()"
   ]
  },
  {
   "cell_type": "markdown",
   "id": "d7850fed",
   "metadata": {},
   "source": [
    "Dataframe Description:\n",
    "\n",
    "The dataset contain the data of the employee. on the basis of the data we have to predict the salary of employee.The dataset contains the data like'rank','discipline', 'yrs.since.phd', 'yrs.service', 'sex', 'salary"
   ]
  },
  {
   "cell_type": "markdown",
   "id": "8f88215d",
   "metadata": {},
   "source": [
    "# Checking the datatype of the columns."
   ]
  },
  {
   "cell_type": "code",
   "execution_count": 10,
   "id": "d1498e2a",
   "metadata": {},
   "outputs": [
    {
     "data": {
      "text/plain": [
       "rank             object\n",
       "discipline       object\n",
       "yrs.since.phd     int64\n",
       "yrs.service       int64\n",
       "sex              object\n",
       "salary            int64\n",
       "dtype: object"
      ]
     },
     "execution_count": 10,
     "metadata": {},
     "output_type": "execute_result"
    }
   ],
   "source": [
    "df.dtypes"
   ]
  },
  {
   "cell_type": "code",
   "execution_count": 11,
   "id": "13bb8a4d",
   "metadata": {},
   "outputs": [
    {
     "data": {
      "text/plain": [
       "array([139750, 173200,  79750, 115000, 141500,  97000, 175000, 147765,\n",
       "       119250, 129000, 119800,  79800,  77700,  78000, 104800, 117150,\n",
       "       101000, 103450, 124750, 137000,  89565, 102580,  93904, 113068,\n",
       "        74830, 106294, 134885,  82379,  77000, 118223, 132261,  79916,\n",
       "       117256,  80225, 155750,  86373, 125196, 100938, 146500,  93418,\n",
       "       101299, 231545,  94384, 114778,  98193, 151768, 140096,  70768,\n",
       "       126621, 108875,  74692, 106639, 103760,  83900, 117704,  90215,\n",
       "       100135,  75044,  90304,  75243, 109785, 103613,  68404, 100522,\n",
       "        99418, 111512,  91412, 126320, 146856, 100131,  92391, 113398,\n",
       "        73266, 150480, 193000,  86100,  84240, 150743, 135585, 144640,\n",
       "        88825, 122960, 132825, 152708,  88400, 172272, 107008,  97032,\n",
       "       105128, 105631, 166024, 123683,  84000,  95611, 129676, 102235,\n",
       "       106689, 133217, 126933, 153303, 127512,  83850, 113543,  82099,\n",
       "        82600,  81500, 131205, 112429,  82100,  72500, 104279, 105000,\n",
       "       120806, 148500, 117515,  73500, 115313, 124309,  97262,  62884,\n",
       "        96614,  78162, 155500, 113278,  73000,  83001,  76840,  77500,\n",
       "       168635, 136000, 108262, 105668,  73877, 152664, 100102, 106608,\n",
       "        89942, 112696, 119015,  92000, 156938, 144651,  95079, 128148,\n",
       "       111168, 103994, 118971, 113341,  88000,  95408, 137167,  89516,\n",
       "       176500,  98510,  88795, 105890, 167284, 130664, 101210, 181257,\n",
       "        91227, 151575,  93164, 134185, 111751,  95436, 100944, 147349,\n",
       "       142467, 141136, 100000, 150000, 134000, 103750, 107500, 106300,\n",
       "       153750, 180000, 133700, 122100,  86250,  90000, 113600,  92700,\n",
       "       189409, 114500, 119700, 160400, 152500, 165000,  96545, 162200,\n",
       "       120000,  91300, 163200,  91000, 111350, 128400, 126200, 118700,\n",
       "       145350, 146000, 105350, 109650, 119500, 170000, 145200, 107150,\n",
       "       129600,  87800, 122400,  63900,  70000,  88175, 133900,  73300,\n",
       "       148750, 117555,  69700,  81700, 114000,  63100,  77202,  96200,\n",
       "        69200, 122875, 102600, 108200,  84273,  90450,  91100, 101100,\n",
       "       128800, 204000, 109000, 102000, 132000, 116450,  83000, 140300,\n",
       "        74000,  73800,  92550,  88600, 107550, 121200, 126000,  99000,\n",
       "       134800, 143940, 104350,  89650, 103700, 143250, 194800,  78500,\n",
       "        93000, 107200, 107100, 100600, 136500, 103600,  57800, 155865,\n",
       "        88650,  81800, 115800,  85000, 150500, 174500, 168500, 183800,\n",
       "       107300,  97150, 126300, 148800,  72300,  70700, 127100, 170500,\n",
       "       105260, 144050,  74500, 122500, 166800,  92050, 108100,  94350,\n",
       "       100351, 146800,  84716,  71065,  67559, 134550, 135027, 104428,\n",
       "        95642, 126431, 161101, 162221,  84500, 124714, 151650,  99247,\n",
       "       134778, 192253, 116518, 105450, 145098, 104542, 151445,  98053,\n",
       "       145000, 128464, 137317, 106231, 124312, 114596, 162150, 150376,\n",
       "       107986, 142023, 128250,  80139, 144309, 186960,  93519, 142500,\n",
       "       138000,  83600, 145028,  88709, 107309, 109954,  78785, 121946,\n",
       "       109646, 138771,  81285, 205500, 101036, 115435, 108413, 131950,\n",
       "       134690,  78182, 110515, 109707, 136660, 103275, 103649,  74856,\n",
       "        77081, 150680, 104121,  75996, 172505,  86895, 125192, 114330,\n",
       "       139219, 109305, 119450, 186023, 166605, 151292, 103106, 150564,\n",
       "       101738,  95329,  81035], dtype=int64)"
      ]
     },
     "execution_count": 11,
     "metadata": {},
     "output_type": "execute_result"
    }
   ],
   "source": [
    "df['salary'].unique()"
   ]
  },
  {
   "cell_type": "code",
   "execution_count": 12,
   "id": "a260204a",
   "metadata": {},
   "outputs": [
    {
     "data": {
      "text/plain": [
       "371"
      ]
     },
     "execution_count": 12,
     "metadata": {},
     "output_type": "execute_result"
    }
   ],
   "source": [
    "df['salary'].nunique()"
   ]
  },
  {
   "cell_type": "code",
   "execution_count": 13,
   "id": "6a5bf113",
   "metadata": {},
   "outputs": [
    {
     "data": {
      "text/plain": [
       "397"
      ]
     },
     "execution_count": 13,
     "metadata": {},
     "output_type": "execute_result"
    }
   ],
   "source": [
    "df.shape[0]"
   ]
  },
  {
   "cell_type": "code",
   "execution_count": 14,
   "id": "b7a96d94",
   "metadata": {},
   "outputs": [
    {
     "data": {
      "text/html": [
       "<div>\n",
       "<style scoped>\n",
       "    .dataframe tbody tr th:only-of-type {\n",
       "        vertical-align: middle;\n",
       "    }\n",
       "\n",
       "    .dataframe tbody tr th {\n",
       "        vertical-align: top;\n",
       "    }\n",
       "\n",
       "    .dataframe thead th {\n",
       "        text-align: right;\n",
       "    }\n",
       "</style>\n",
       "<table border=\"1\" class=\"dataframe\">\n",
       "  <thead>\n",
       "    <tr style=\"text-align: right;\">\n",
       "      <th></th>\n",
       "      <th>rank</th>\n",
       "      <th>discipline</th>\n",
       "      <th>yrs.since.phd</th>\n",
       "      <th>yrs.service</th>\n",
       "      <th>sex</th>\n",
       "      <th>salary</th>\n",
       "    </tr>\n",
       "  </thead>\n",
       "  <tbody>\n",
       "  </tbody>\n",
       "</table>\n",
       "</div>"
      ],
      "text/plain": [
       "Empty DataFrame\n",
       "Columns: [rank, discipline, yrs.since.phd, yrs.service, sex, salary]\n",
       "Index: []"
      ]
     },
     "execution_count": 14,
     "metadata": {},
     "output_type": "execute_result"
    }
   ],
   "source": [
    "df.loc[df['salary']== \" \"]"
   ]
  },
  {
   "cell_type": "markdown",
   "id": "cfe4e4b0",
   "metadata": {},
   "source": [
    "# Making DataFrame for the Nominal Data"
   ]
  },
  {
   "cell_type": "code",
   "execution_count": 15,
   "id": "89ece848",
   "metadata": {},
   "outputs": [],
   "source": [
    "df_visualization_nominal=df[['rank', 'discipline', 'sex']].copy()"
   ]
  },
  {
   "cell_type": "code",
   "execution_count": 16,
   "id": "403f3ae9",
   "metadata": {},
   "outputs": [
    {
     "data": {
      "text/plain": [
       "Index(['rank', 'discipline', 'sex'], dtype='object')"
      ]
     },
     "execution_count": 16,
     "metadata": {},
     "output_type": "execute_result"
    }
   ],
   "source": [
    "df_visualization_nominal.columns"
   ]
  },
  {
   "cell_type": "markdown",
   "id": "8a2c9309",
   "metadata": {},
   "source": [
    "# Visualization of the Data:"
   ]
  },
  {
   "cell_type": "markdown",
   "id": "f5f24f6b",
   "metadata": {},
   "source": [
    "For the nominal categorical data we will use countplot as it will give the frequency of the classes of the columns:"
   ]
  },
  {
   "cell_type": "code",
   "execution_count": 17,
   "id": "91e32613",
   "metadata": {},
   "outputs": [],
   "source": [
    "import seaborn as sns"
   ]
  },
  {
   "cell_type": "code",
   "execution_count": 18,
   "id": "6bd51025",
   "metadata": {},
   "outputs": [
    {
     "data": {
      "image/png": "[encoded data removed]",
      "text/plain": [
       "<Figure size 432x288 with 1 Axes>"
      ]
     },
     "metadata": {
      "needs_background": "light"
     },
     "output_type": "display_data"
    }
   ],
   "source": [
    "ax=sns.countplot(x='rank',data=df_visualization_nominal)"
   ]
  },
  {
   "cell_type": "markdown",
   "id": "9f3f21d1",
   "metadata": {},
   "source": [
    "From the above observation the total number of prof is 282 , Asstprof rank is 60 and Assocprof is 55"
   ]
  },
  {
   "cell_type": "code",
   "execution_count": 19,
   "id": "1e358d50",
   "metadata": {},
   "outputs": [
    {
     "data": {
      "image/png": "[encoded data removed]",
      "text/plain": [
       "<Figure size 432x288 with 1 Axes>"
      ]
     },
     "metadata": {
      "needs_background": "light"
     },
     "output_type": "display_data"
    }
   ],
   "source": [
    "ax= sns.countplot(x='discipline',data=df_visualization_nominal)"
   ]
  },
  {
   "cell_type": "markdown",
   "id": "b4633edd",
   "metadata": {},
   "source": [
    "From the above observation the total number of B is more then A"
   ]
  },
  {
   "cell_type": "code",
   "execution_count": 20,
   "id": "a87012aa",
   "metadata": {},
   "outputs": [
    {
     "data": {
      "image/png": "[encoded data removed]",
      "text/plain": [
       "<Figure size 432x288 with 1 Axes>"
      ]
     },
     "metadata": {
      "needs_background": "light"
     },
     "output_type": "display_data"
    }
   ],
   "source": [
    "ax= sns.countplot(x='sex',data=df_visualization_nominal)"
   ]
  },
  {
   "cell_type": "markdown",
   "id": "e7506950",
   "metadata": {},
   "source": [
    "From the above observation the total number of Male is more then Female\n",
    "\n",
    "Visualization part is completed."
   ]
  },
  {
   "cell_type": "markdown",
   "id": "51d324e8",
   "metadata": {},
   "source": [
    "# Encoding of DataFrame:"
   ]
  },
  {
   "cell_type": "code",
   "execution_count": 21,
   "id": "b4f770ae",
   "metadata": {},
   "outputs": [],
   "source": [
    "from sklearn.preprocessing import OrdinalEncoder\n",
    "enc=OrdinalEncoder()"
   ]
  },
  {
   "cell_type": "code",
   "execution_count": 22,
   "id": "5c3b0c77",
   "metadata": {},
   "outputs": [],
   "source": [
    "for i in df.columns:\n",
    "    if df[i].dtypes==\"object\":\n",
    "        df[i]=enc.fit_transform(df[i].values.reshape(-1,1))"
   ]
  },
  {
   "cell_type": "code",
   "execution_count": 23,
   "id": "c8037337",
   "metadata": {},
   "outputs": [
    {
     "data": {
      "text/html": [
       "<div>\n",
       "<style scoped>\n",
       "    .dataframe tbody tr th:only-of-type {\n",
       "        vertical-align: middle;\n",
       "    }\n",
       "\n",
       "    .dataframe tbody tr th {\n",
       "        vertical-align: top;\n",
       "    }\n",
       "\n",
       "    .dataframe thead th {\n",
       "        text-align: right;\n",
       "    }\n",
       "</style>\n",
       "<table border=\"1\" class=\"dataframe\">\n",
       "  <thead>\n",
       "    <tr style=\"text-align: right;\">\n",
       "      <th></th>\n",
       "      <th>rank</th>\n",
       "      <th>discipline</th>\n",
       "      <th>yrs.since.phd</th>\n",
       "      <th>yrs.service</th>\n",
       "      <th>sex</th>\n",
       "      <th>salary</th>\n",
       "    </tr>\n",
       "  </thead>\n",
       "  <tbody>\n",
       "    <tr>\n",
       "      <th>0</th>\n",
       "      <td>2.0</td>\n",
       "      <td>1.0</td>\n",
       "      <td>19</td>\n",
       "      <td>18</td>\n",
       "      <td>1.0</td>\n",
       "      <td>139750</td>\n",
       "    </tr>\n",
       "    <tr>\n",
       "      <th>1</th>\n",
       "      <td>2.0</td>\n",
       "      <td>1.0</td>\n",
       "      <td>20</td>\n",
       "      <td>16</td>\n",
       "      <td>1.0</td>\n",
       "      <td>173200</td>\n",
       "    </tr>\n",
       "    <tr>\n",
       "      <th>2</th>\n",
       "      <td>1.0</td>\n",
       "      <td>1.0</td>\n",
       "      <td>4</td>\n",
       "      <td>3</td>\n",
       "      <td>1.0</td>\n",
       "      <td>79750</td>\n",
       "    </tr>\n",
       "    <tr>\n",
       "      <th>3</th>\n",
       "      <td>2.0</td>\n",
       "      <td>1.0</td>\n",
       "      <td>45</td>\n",
       "      <td>39</td>\n",
       "      <td>1.0</td>\n",
       "      <td>115000</td>\n",
       "    </tr>\n",
       "    <tr>\n",
       "      <th>4</th>\n",
       "      <td>2.0</td>\n",
       "      <td>1.0</td>\n",
       "      <td>40</td>\n",
       "      <td>41</td>\n",
       "      <td>1.0</td>\n",
       "      <td>141500</td>\n",
       "    </tr>\n",
       "    <tr>\n",
       "      <th>...</th>\n",
       "      <td>...</td>\n",
       "      <td>...</td>\n",
       "      <td>...</td>\n",
       "      <td>...</td>\n",
       "      <td>...</td>\n",
       "      <td>...</td>\n",
       "    </tr>\n",
       "    <tr>\n",
       "      <th>392</th>\n",
       "      <td>2.0</td>\n",
       "      <td>0.0</td>\n",
       "      <td>33</td>\n",
       "      <td>30</td>\n",
       "      <td>1.0</td>\n",
       "      <td>103106</td>\n",
       "    </tr>\n",
       "    <tr>\n",
       "      <th>393</th>\n",
       "      <td>2.0</td>\n",
       "      <td>0.0</td>\n",
       "      <td>31</td>\n",
       "      <td>19</td>\n",
       "      <td>1.0</td>\n",
       "      <td>150564</td>\n",
       "    </tr>\n",
       "    <tr>\n",
       "      <th>394</th>\n",
       "      <td>2.0</td>\n",
       "      <td>0.0</td>\n",
       "      <td>42</td>\n",
       "      <td>25</td>\n",
       "      <td>1.0</td>\n",
       "      <td>101738</td>\n",
       "    </tr>\n",
       "    <tr>\n",
       "      <th>395</th>\n",
       "      <td>2.0</td>\n",
       "      <td>0.0</td>\n",
       "      <td>25</td>\n",
       "      <td>15</td>\n",
       "      <td>1.0</td>\n",
       "      <td>95329</td>\n",
       "    </tr>\n",
       "    <tr>\n",
       "      <th>396</th>\n",
       "      <td>1.0</td>\n",
       "      <td>0.0</td>\n",
       "      <td>8</td>\n",
       "      <td>4</td>\n",
       "      <td>1.0</td>\n",
       "      <td>81035</td>\n",
       "    </tr>\n",
       "  </tbody>\n",
       "</table>\n",
       "<p>397 rows × 6 columns</p>\n",
       "</div>"
      ],
      "text/plain": [
       "     rank  discipline  yrs.since.phd  yrs.service  sex  salary\n",
       "0     2.0         1.0             19           18  1.0  139750\n",
       "1     2.0         1.0             20           16  1.0  173200\n",
       "2     1.0         1.0              4            3  1.0   79750\n",
       "3     2.0         1.0             45           39  1.0  115000\n",
       "4     2.0         1.0             40           41  1.0  141500\n",
       "..    ...         ...            ...          ...  ...     ...\n",
       "392   2.0         0.0             33           30  1.0  103106\n",
       "393   2.0         0.0             31           19  1.0  150564\n",
       "394   2.0         0.0             42           25  1.0  101738\n",
       "395   2.0         0.0             25           15  1.0   95329\n",
       "396   1.0         0.0              8            4  1.0   81035\n",
       "\n",
       "[397 rows x 6 columns]"
      ]
     },
     "execution_count": 23,
     "metadata": {},
     "output_type": "execute_result"
    }
   ],
   "source": [
    "df"
   ]
  },
  {
   "cell_type": "markdown",
   "id": "65d22dc4",
   "metadata": {},
   "source": [
    "# Describe the dataset:"
   ]
  },
  {
   "cell_type": "code",
   "execution_count": 24,
   "id": "c6f04ccc",
   "metadata": {},
   "outputs": [
    {
     "data": {
      "text/html": [
       "<div>\n",
       "<style scoped>\n",
       "    .dataframe tbody tr th:only-of-type {\n",
       "        vertical-align: middle;\n",
       "    }\n",
       "\n",
       "    .dataframe tbody tr th {\n",
       "        vertical-align: top;\n",
       "    }\n",
       "\n",
       "    .dataframe thead th {\n",
       "        text-align: right;\n",
       "    }\n",
       "</style>\n",
       "<table border=\"1\" class=\"dataframe\">\n",
       "  <thead>\n",
       "    <tr style=\"text-align: right;\">\n",
       "      <th></th>\n",
       "      <th>rank</th>\n",
       "      <th>discipline</th>\n",
       "      <th>yrs.since.phd</th>\n",
       "      <th>yrs.service</th>\n",
       "      <th>sex</th>\n",
       "      <th>salary</th>\n",
       "    </tr>\n",
       "  </thead>\n",
       "  <tbody>\n",
       "    <tr>\n",
       "      <th>count</th>\n",
       "      <td>397.000000</td>\n",
       "      <td>397.000000</td>\n",
       "      <td>397.000000</td>\n",
       "      <td>397.000000</td>\n",
       "      <td>397.000000</td>\n",
       "      <td>397.000000</td>\n",
       "    </tr>\n",
       "    <tr>\n",
       "      <th>mean</th>\n",
       "      <td>1.508816</td>\n",
       "      <td>0.544081</td>\n",
       "      <td>22.314861</td>\n",
       "      <td>17.614610</td>\n",
       "      <td>0.901763</td>\n",
       "      <td>113706.458438</td>\n",
       "    </tr>\n",
       "    <tr>\n",
       "      <th>std</th>\n",
       "      <td>0.757486</td>\n",
       "      <td>0.498682</td>\n",
       "      <td>12.887003</td>\n",
       "      <td>13.006024</td>\n",
       "      <td>0.298010</td>\n",
       "      <td>30289.038695</td>\n",
       "    </tr>\n",
       "    <tr>\n",
       "      <th>min</th>\n",
       "      <td>0.000000</td>\n",
       "      <td>0.000000</td>\n",
       "      <td>1.000000</td>\n",
       "      <td>0.000000</td>\n",
       "      <td>0.000000</td>\n",
       "      <td>57800.000000</td>\n",
       "    </tr>\n",
       "    <tr>\n",
       "      <th>25%</th>\n",
       "      <td>1.000000</td>\n",
       "      <td>0.000000</td>\n",
       "      <td>12.000000</td>\n",
       "      <td>7.000000</td>\n",
       "      <td>1.000000</td>\n",
       "      <td>91000.000000</td>\n",
       "    </tr>\n",
       "    <tr>\n",
       "      <th>50%</th>\n",
       "      <td>2.000000</td>\n",
       "      <td>1.000000</td>\n",
       "      <td>21.000000</td>\n",
       "      <td>16.000000</td>\n",
       "      <td>1.000000</td>\n",
       "      <td>107300.000000</td>\n",
       "    </tr>\n",
       "    <tr>\n",
       "      <th>75%</th>\n",
       "      <td>2.000000</td>\n",
       "      <td>1.000000</td>\n",
       "      <td>32.000000</td>\n",
       "      <td>27.000000</td>\n",
       "      <td>1.000000</td>\n",
       "      <td>134185.000000</td>\n",
       "    </tr>\n",
       "    <tr>\n",
       "      <th>max</th>\n",
       "      <td>2.000000</td>\n",
       "      <td>1.000000</td>\n",
       "      <td>56.000000</td>\n",
       "      <td>60.000000</td>\n",
       "      <td>1.000000</td>\n",
       "      <td>231545.000000</td>\n",
       "    </tr>\n",
       "  </tbody>\n",
       "</table>\n",
       "</div>"
      ],
      "text/plain": [
       "             rank  discipline  yrs.since.phd  yrs.service         sex  \\\n",
       "count  397.000000  397.000000     397.000000   397.000000  397.000000   \n",
       "mean     1.508816    0.544081      22.314861    17.614610    0.901763   \n",
       "std      0.757486    0.498682      12.887003    13.006024    0.298010   \n",
       "min      0.000000    0.000000       1.000000     0.000000    0.000000   \n",
       "25%      1.000000    0.000000      12.000000     7.000000    1.000000   \n",
       "50%      2.000000    1.000000      21.000000    16.000000    1.000000   \n",
       "75%      2.000000    1.000000      32.000000    27.000000    1.000000   \n",
       "max      2.000000    1.000000      56.000000    60.000000    1.000000   \n",
       "\n",
       "              salary  \n",
       "count     397.000000  \n",
       "mean   113706.458438  \n",
       "std     30289.038695  \n",
       "min     57800.000000  \n",
       "25%     91000.000000  \n",
       "50%    107300.000000  \n",
       "75%    134185.000000  \n",
       "max    231545.000000  "
      ]
     },
     "execution_count": 24,
     "metadata": {},
     "output_type": "execute_result"
    }
   ],
   "source": [
    "# only continuous columns\n",
    "df.describe()"
   ]
  },
  {
   "cell_type": "code",
   "execution_count": 25,
   "id": "656d8ff3",
   "metadata": {},
   "outputs": [
    {
     "data": {
      "text/plain": [
       "<AxesSubplot:>"
      ]
     },
     "execution_count": 25,
     "metadata": {},
     "output_type": "execute_result"
    },
    {
     "data": {
      "image/png": "[encoded data removed]",
      "text/plain": [
       "<Figure size 1584x504 with 2 Axes>"
      ]
     },
     "metadata": {
      "needs_background": "light"
     },
     "output_type": "display_data"
    }
   ],
   "source": [
    "import matplotlib.pyplot as plt\n",
    "plt.figure(figsize=(22,7))\n",
    "sns.heatmap(df.describe(),annot=True,linewidth=0.1,linecolor=\"black\",fmt=\"0.2f\")"
   ]
  },
  {
   "cell_type": "markdown",
   "id": "d0560d90",
   "metadata": {},
   "source": [
    "Correlation of the columns with the target columns:"
   ]
  },
  {
   "cell_type": "code",
   "execution_count": 26,
   "id": "7ebc849b",
   "metadata": {},
   "outputs": [
    {
     "data": {
      "text/plain": [
       "sex              0.138610\n",
       "discipline       0.156084\n",
       "yrs.service      0.334745\n",
       "yrs.since.phd    0.419231\n",
       "rank             0.522207\n",
       "salary           1.000000\n",
       "Name: salary, dtype: float64"
      ]
     },
     "execution_count": 26,
     "metadata": {},
     "output_type": "execute_result"
    }
   ],
   "source": [
    "df.corr()['salary'].sort_values()"
   ]
  },
  {
   "cell_type": "code",
   "execution_count": 27,
   "id": "4d17562b",
   "metadata": {},
   "outputs": [
    {
     "data": {
      "text/plain": [
       "<AxesSubplot:>"
      ]
     },
     "execution_count": 27,
     "metadata": {},
     "output_type": "execute_result"
    },
    {
     "data": {
      "image/png": "[encoded data removed]",
      "text/plain": [
       "<Figure size 1584x504 with 2 Axes>"
      ]
     },
     "metadata": {
      "needs_background": "light"
     },
     "output_type": "display_data"
    }
   ],
   "source": [
    "plt.figure(figsize=(22,7))\n",
    "sns.heatmap(df.corr(),annot=True,linewidth=0.1,linecolor=\"black\",fmt=\"0.2f\")"
   ]
  },
  {
   "cell_type": "code",
   "execution_count": 28,
   "id": "d3c00306",
   "metadata": {},
   "outputs": [
    {
     "data": {
      "image/png": "[encoded data removed]",
      "text/plain": [
       "<Figure size 1584x504 with 1 Axes>"
      ]
     },
     "metadata": {
      "needs_background": "light"
     },
     "output_type": "display_data"
    }
   ],
   "source": [
    "plt.figure(figsize=(22,7))\n",
    "df.corr()['salary'].sort_values(ascending=False).drop(['salary']).plot(kind='bar',color='c')\n",
    "plt.xlabel('Feature',fontsize=14)\n",
    "plt.ylabel('Column with target names',fontsize=14)\n",
    "plt.title('Correlation',fontsize=18)\n",
    "plt.show()"
   ]
  },
  {
   "cell_type": "markdown",
   "id": "ff7d8b5e",
   "metadata": {},
   "source": [
    "From the above observation we can see that rank is highly correlated with target"
   ]
  },
  {
   "cell_type": "code",
   "execution_count": 29,
   "id": "377c1e41",
   "metadata": {},
   "outputs": [
    {
     "data": {
      "text/plain": [
       "rank            -1.151164\n",
       "discipline      -0.177684\n",
       "yrs.since.phd    0.300880\n",
       "yrs.service      0.650569\n",
       "sex             -2.709958\n",
       "salary           0.714568\n",
       "dtype: float64"
      ]
     },
     "execution_count": 29,
     "metadata": {},
     "output_type": "execute_result"
    }
   ],
   "source": [
    "df.skew()"
   ]
  },
  {
   "cell_type": "markdown",
   "id": "97e9730e",
   "metadata": {},
   "source": [
    "keeping +/-0.5 as the range for skewness,here are the columns which does not lies within this range."
   ]
  },
  {
   "cell_type": "markdown",
   "id": "924c86fa",
   "metadata": {},
   "source": [
    "# outliers check:"
   ]
  },
  {
   "cell_type": "code",
   "execution_count": 30,
   "id": "5e5dd96a",
   "metadata": {},
   "outputs": [
    {
     "data": {
      "text/plain": [
       "rank             float64\n",
       "discipline       float64\n",
       "yrs.since.phd      int64\n",
       "yrs.service        int64\n",
       "sex              float64\n",
       "salary             int64\n",
       "dtype: object"
      ]
     },
     "execution_count": 30,
     "metadata": {},
     "output_type": "execute_result"
    }
   ],
   "source": [
    "df.dtypes"
   ]
  },
  {
   "cell_type": "code",
   "execution_count": 31,
   "id": "d4ed050a",
   "metadata": {},
   "outputs": [
    {
     "data": {
      "text/plain": [
       "<AxesSubplot:>"
      ]
     },
     "execution_count": 31,
     "metadata": {},
     "output_type": "execute_result"
    },
    {
     "data": {
      "image/png": "[encoded data removed]",
      "text/plain": [
       "<Figure size 432x288 with 1 Axes>"
      ]
     },
     "metadata": {
      "needs_background": "light"
     },
     "output_type": "display_data"
    }
   ],
   "source": [
    "df['rank'].plot.box()"
   ]
  },
  {
   "cell_type": "code",
   "execution_count": 32,
   "id": "7dbaee9d",
   "metadata": {},
   "outputs": [
    {
     "data": {
      "text/plain": [
       "<AxesSubplot:>"
      ]
     },
     "execution_count": 32,
     "metadata": {},
     "output_type": "execute_result"
    },
    {
     "data": {
      "image/png": "[encoded data removed]",
      "text/plain": [
       "<Figure size 432x288 with 1 Axes>"
      ]
     },
     "metadata": {
      "needs_background": "light"
     },
     "output_type": "display_data"
    }
   ],
   "source": [
    "df['discipline'].plot.box()"
   ]
  },
  {
   "cell_type": "code",
   "execution_count": 33,
   "id": "16889df3",
   "metadata": {},
   "outputs": [
    {
     "data": {
      "text/plain": [
       "<AxesSubplot:>"
      ]
     },
     "execution_count": 33,
     "metadata": {},
     "output_type": "execute_result"
    },
    {
     "data": {
      "image/png": "[encoded data removed]",
      "text/plain": [
       "<Figure size 432x288 with 1 Axes>"
      ]
     },
     "metadata": {
      "needs_background": "light"
     },
     "output_type": "display_data"
    }
   ],
   "source": [
    "df['yrs.since.phd'].plot.box()"
   ]
  },
  {
   "cell_type": "code",
   "execution_count": 34,
   "id": "e11e5b03",
   "metadata": {},
   "outputs": [
    {
     "data": {
      "text/plain": [
       "<AxesSubplot:>"
      ]
     },
     "execution_count": 34,
     "metadata": {},
     "output_type": "execute_result"
    },
    {
     "data": {
      "image/png": "[encoded data removed]",
      "text/plain": [
       "<Figure size 432x288 with 1 Axes>"
      ]
     },
     "metadata": {
      "needs_background": "light"
     },
     "output_type": "display_data"
    }
   ],
   "source": [
    "df['yrs.service'].plot.box()"
   ]
  },
  {
   "cell_type": "code",
   "execution_count": 35,
   "id": "a4899e30",
   "metadata": {},
   "outputs": [
    {
     "data": {
      "text/plain": [
       "<AxesSubplot:>"
      ]
     },
     "execution_count": 35,
     "metadata": {},
     "output_type": "execute_result"
    },
    {
     "data": {
      "image/png": "[encoded data removed]",
      "text/plain": [
       "<Figure size 432x288 with 1 Axes>"
      ]
     },
     "metadata": {
      "needs_background": "light"
     },
     "output_type": "display_data"
    }
   ],
   "source": [
    "df['sex'].plot.box()"
   ]
  },
  {
   "cell_type": "code",
   "execution_count": 36,
   "id": "01e458d0",
   "metadata": {},
   "outputs": [
    {
     "data": {
      "text/plain": [
       "<AxesSubplot:>"
      ]
     },
     "execution_count": 36,
     "metadata": {},
     "output_type": "execute_result"
    },
    {
     "data": {
      "image/png": "[encoded data removed]",
      "text/plain": [
       "<Figure size 432x288 with 1 Axes>"
      ]
     },
     "metadata": {
      "needs_background": "light"
     },
     "output_type": "display_data"
    }
   ],
   "source": [
    "df['salary'].plot.box()"
   ]
  },
  {
   "cell_type": "markdown",
   "id": "732490dc",
   "metadata": {},
   "source": [
    "since the column sex is nominal type, we cannot consider its data point as outlier."
   ]
  },
  {
   "cell_type": "markdown",
   "id": "a3952ad1",
   "metadata": {},
   "source": [
    "# outlier removal"
   ]
  },
  {
   "cell_type": "code",
   "execution_count": 37,
   "id": "5165d53f",
   "metadata": {},
   "outputs": [
    {
     "data": {
      "text/plain": [
       "(array([  9,  19,  24,  34,  35,  43,  47,  48,  52,  63,  68,  84,  90,\n",
       "        103, 114, 119, 123, 127, 131, 132, 133, 148, 153, 179, 186, 218,\n",
       "        230, 231, 233, 237, 245, 253, 254, 274, 316, 323, 330, 332, 334,\n",
       "        341, 358, 361, 364], dtype=int64),\n",
       " array([4, 4, 4, 4, 4, 5, 4, 4, 4, 4, 4, 4, 4, 4, 4, 4, 4, 4, 3, 4, 4, 4,\n",
       "        4, 4, 4, 4, 4, 4, 4, 4, 4, 4, 4, 4, 4, 4, 3, 4, 4, 4, 4, 4, 5],\n",
       "       dtype=int64))"
      ]
     },
     "execution_count": 37,
     "metadata": {},
     "output_type": "execute_result"
    }
   ],
   "source": [
    "from scipy.stats import zscore\n",
    "import numpy as np\n",
    "z=np.abs(zscore(df))\n",
    "threshold=3\n",
    "np.where(z>3)"
   ]
  },
  {
   "cell_type": "code",
   "execution_count": 38,
   "id": "e88f276f",
   "metadata": {},
   "outputs": [
    {
     "data": {
      "text/html": [
       "<div>\n",
       "<style scoped>\n",
       "    .dataframe tbody tr th:only-of-type {\n",
       "        vertical-align: middle;\n",
       "    }\n",
       "\n",
       "    .dataframe tbody tr th {\n",
       "        vertical-align: top;\n",
       "    }\n",
       "\n",
       "    .dataframe thead th {\n",
       "        text-align: right;\n",
       "    }\n",
       "</style>\n",
       "<table border=\"1\" class=\"dataframe\">\n",
       "  <thead>\n",
       "    <tr style=\"text-align: right;\">\n",
       "      <th></th>\n",
       "      <th>rank</th>\n",
       "      <th>discipline</th>\n",
       "      <th>yrs.since.phd</th>\n",
       "      <th>yrs.service</th>\n",
       "      <th>sex</th>\n",
       "      <th>salary</th>\n",
       "    </tr>\n",
       "  </thead>\n",
       "  <tbody>\n",
       "    <tr>\n",
       "      <th>0</th>\n",
       "      <td>2.0</td>\n",
       "      <td>1.0</td>\n",
       "      <td>19</td>\n",
       "      <td>18</td>\n",
       "      <td>1.0</td>\n",
       "      <td>139750</td>\n",
       "    </tr>\n",
       "    <tr>\n",
       "      <th>1</th>\n",
       "      <td>2.0</td>\n",
       "      <td>1.0</td>\n",
       "      <td>20</td>\n",
       "      <td>16</td>\n",
       "      <td>1.0</td>\n",
       "      <td>173200</td>\n",
       "    </tr>\n",
       "    <tr>\n",
       "      <th>2</th>\n",
       "      <td>1.0</td>\n",
       "      <td>1.0</td>\n",
       "      <td>4</td>\n",
       "      <td>3</td>\n",
       "      <td>1.0</td>\n",
       "      <td>79750</td>\n",
       "    </tr>\n",
       "    <tr>\n",
       "      <th>3</th>\n",
       "      <td>2.0</td>\n",
       "      <td>1.0</td>\n",
       "      <td>45</td>\n",
       "      <td>39</td>\n",
       "      <td>1.0</td>\n",
       "      <td>115000</td>\n",
       "    </tr>\n",
       "    <tr>\n",
       "      <th>4</th>\n",
       "      <td>2.0</td>\n",
       "      <td>1.0</td>\n",
       "      <td>40</td>\n",
       "      <td>41</td>\n",
       "      <td>1.0</td>\n",
       "      <td>141500</td>\n",
       "    </tr>\n",
       "    <tr>\n",
       "      <th>...</th>\n",
       "      <td>...</td>\n",
       "      <td>...</td>\n",
       "      <td>...</td>\n",
       "      <td>...</td>\n",
       "      <td>...</td>\n",
       "      <td>...</td>\n",
       "    </tr>\n",
       "    <tr>\n",
       "      <th>392</th>\n",
       "      <td>2.0</td>\n",
       "      <td>0.0</td>\n",
       "      <td>33</td>\n",
       "      <td>30</td>\n",
       "      <td>1.0</td>\n",
       "      <td>103106</td>\n",
       "    </tr>\n",
       "    <tr>\n",
       "      <th>393</th>\n",
       "      <td>2.0</td>\n",
       "      <td>0.0</td>\n",
       "      <td>31</td>\n",
       "      <td>19</td>\n",
       "      <td>1.0</td>\n",
       "      <td>150564</td>\n",
       "    </tr>\n",
       "    <tr>\n",
       "      <th>394</th>\n",
       "      <td>2.0</td>\n",
       "      <td>0.0</td>\n",
       "      <td>42</td>\n",
       "      <td>25</td>\n",
       "      <td>1.0</td>\n",
       "      <td>101738</td>\n",
       "    </tr>\n",
       "    <tr>\n",
       "      <th>395</th>\n",
       "      <td>2.0</td>\n",
       "      <td>0.0</td>\n",
       "      <td>25</td>\n",
       "      <td>15</td>\n",
       "      <td>1.0</td>\n",
       "      <td>95329</td>\n",
       "    </tr>\n",
       "    <tr>\n",
       "      <th>396</th>\n",
       "      <td>1.0</td>\n",
       "      <td>0.0</td>\n",
       "      <td>8</td>\n",
       "      <td>4</td>\n",
       "      <td>1.0</td>\n",
       "      <td>81035</td>\n",
       "    </tr>\n",
       "  </tbody>\n",
       "</table>\n",
       "<p>354 rows × 6 columns</p>\n",
       "</div>"
      ],
      "text/plain": [
       "     rank  discipline  yrs.since.phd  yrs.service  sex  salary\n",
       "0     2.0         1.0             19           18  1.0  139750\n",
       "1     2.0         1.0             20           16  1.0  173200\n",
       "2     1.0         1.0              4            3  1.0   79750\n",
       "3     2.0         1.0             45           39  1.0  115000\n",
       "4     2.0         1.0             40           41  1.0  141500\n",
       "..    ...         ...            ...          ...  ...     ...\n",
       "392   2.0         0.0             33           30  1.0  103106\n",
       "393   2.0         0.0             31           19  1.0  150564\n",
       "394   2.0         0.0             42           25  1.0  101738\n",
       "395   2.0         0.0             25           15  1.0   95329\n",
       "396   1.0         0.0              8            4  1.0   81035\n",
       "\n",
       "[354 rows x 6 columns]"
      ]
     },
     "execution_count": 38,
     "metadata": {},
     "output_type": "execute_result"
    }
   ],
   "source": [
    "df_new_z=df[(z<3).all(axis=1)]\n",
    "df_new_z"
   ]
  },
  {
   "cell_type": "code",
   "execution_count": 39,
   "id": "40c79fe8",
   "metadata": {},
   "outputs": [
    {
     "data": {
      "text/plain": [
       "(354, 6)"
      ]
     },
     "execution_count": 39,
     "metadata": {},
     "output_type": "execute_result"
    }
   ],
   "source": [
    "df_new_z.shape"
   ]
  },
  {
   "cell_type": "code",
   "execution_count": 40,
   "id": "78f6694e",
   "metadata": {},
   "outputs": [
    {
     "data": {
      "text/plain": [
       "10.831234256926953"
      ]
     },
     "execution_count": 40,
     "metadata": {},
     "output_type": "execute_result"
    }
   ],
   "source": [
    "## percentage loss of data:\n",
    "Data_loss=((397-354)/397)*100\n",
    "Data_loss"
   ]
  },
  {
   "cell_type": "markdown",
   "id": "84039883",
   "metadata": {},
   "source": [
    "# Saparating the columns into features and target:"
   ]
  },
  {
   "cell_type": "code",
   "execution_count": 41,
   "id": "3fa5f639",
   "metadata": {},
   "outputs": [],
   "source": [
    "features=df.drop('salary',axis=1)\n",
    "target=df['salary']"
   ]
  },
  {
   "cell_type": "markdown",
   "id": "25b94f28",
   "metadata": {},
   "source": [
    "# Scaling the data using Min-Max Scaler:"
   ]
  },
  {
   "cell_type": "code",
   "execution_count": 42,
   "id": "73444e52",
   "metadata": {},
   "outputs": [],
   "source": [
    "from sklearn.preprocessing import MinMaxScaler\n",
    "mms=MinMaxScaler()\n",
    "from sklearn.linear_model import LinearRegression\n",
    "lr=LinearRegression()\n",
    "from sklearn.metrics import r2_score\n",
    "from sklearn.model_selection import train_test_split"
   ]
  },
  {
   "cell_type": "code",
   "execution_count": 43,
   "id": "4d950fba",
   "metadata": {},
   "outputs": [],
   "source": [
    "import warnings\n",
    "warnings.filterwarnings('ignore')"
   ]
  },
  {
   "cell_type": "code",
   "execution_count": 44,
   "id": "a6f31a58",
   "metadata": {},
   "outputs": [
    {
     "name": "stdout",
     "output_type": "stream",
     "text": [
      "At random state 0,the training accuracy is:-0.36119999548530757\n",
      "At random state 0,the testing accuracy is:- 0.40792583149752315\n",
      "\n",
      "\n",
      "At random state 1,the training accuracy is:-0.3604245854198438\n",
      "At random state 1,the testing accuracy is:- 0.4163364187662949\n",
      "\n",
      "\n",
      "At random state 2,the training accuracy is:-0.37547390964955596\n",
      "At random state 2,the testing accuracy is:- 0.36001895545266915\n",
      "\n",
      "\n",
      "At random state 3,the training accuracy is:-0.3847313825130594\n",
      "At random state 3,the testing accuracy is:- 0.329352987501086\n",
      "\n",
      "\n",
      "At random state 4,the training accuracy is:-0.38517450334380454\n",
      "At random state 4,the testing accuracy is:- 0.30440081333156155\n",
      "\n",
      "\n",
      "At random state 5,the training accuracy is:-0.3950033630150771\n",
      "At random state 5,the testing accuracy is:- 0.2752907752774736\n",
      "\n",
      "\n",
      "At random state 6,the training accuracy is:-0.3650308031752798\n",
      "At random state 6,the testing accuracy is:- 0.4018987080607571\n",
      "\n",
      "\n",
      "At random state 7,the training accuracy is:-0.3575963886324032\n",
      "At random state 7,the testing accuracy is:- 0.4360314983336847\n",
      "\n",
      "\n",
      "At random state 8,the training accuracy is:-0.37078641617615615\n",
      "At random state 8,the testing accuracy is:- 0.3520895860059552\n",
      "\n",
      "\n",
      "At random state 9,the training accuracy is:-0.3689988332195655\n",
      "At random state 9,the testing accuracy is:- 0.3880754485440503\n",
      "\n",
      "\n",
      "At random state 10,the training accuracy is:-0.3833769683025209\n",
      "At random state 10,the testing accuracy is:- 0.3237669060179079\n",
      "\n",
      "\n",
      "At random state 11,the training accuracy is:-0.3847188415624321\n",
      "At random state 11,the testing accuracy is:- 0.28083083929305563\n",
      "\n",
      "\n",
      "At random state 12,the training accuracy is:-0.3767666823112952\n",
      "At random state 12,the testing accuracy is:- 0.34397033297856505\n",
      "\n",
      "\n",
      "At random state 13,the training accuracy is:-0.37914531495889037\n",
      "At random state 13,the testing accuracy is:- 0.3037213930266667\n",
      "\n",
      "\n",
      "At random state 14,the training accuracy is:-0.41589783697137583\n",
      "At random state 14,the testing accuracy is:- 0.15184410537740545\n",
      "\n",
      "\n",
      "At random state 15,the training accuracy is:-0.37127624600584874\n",
      "At random state 15,the testing accuracy is:- 0.35351934262062823\n",
      "\n",
      "\n",
      "At random state 16,the training accuracy is:-0.3878621443484205\n",
      "At random state 16,the testing accuracy is:- 0.2924139340497035\n",
      "\n",
      "\n",
      "At random state 17,the training accuracy is:-0.3897546182765135\n",
      "At random state 17,the testing accuracy is:- 0.26101811962187227\n",
      "\n",
      "\n",
      "At random state 18,the training accuracy is:-0.3650413646278945\n",
      "At random state 18,the testing accuracy is:- 0.3698468335200642\n",
      "\n",
      "\n",
      "At random state 19,the training accuracy is:-0.36478587974538956\n",
      "At random state 19,the testing accuracy is:- 0.3942926604679201\n",
      "\n",
      "\n",
      "At random state 20,the training accuracy is:-0.3622414400227314\n",
      "At random state 20,the testing accuracy is:- 0.40106505357197053\n",
      "\n",
      "\n",
      "At random state 21,the training accuracy is:-0.3935643702731856\n",
      "At random state 21,the testing accuracy is:- 0.28484864022169354\n",
      "\n",
      "\n",
      "At random state 22,the training accuracy is:-0.3848789411044249\n",
      "At random state 22,the testing accuracy is:- 0.3105065511907833\n",
      "\n",
      "\n",
      "At random state 23,the training accuracy is:-0.388340130912739\n",
      "At random state 23,the testing accuracy is:- 0.3090832300219746\n",
      "\n",
      "\n",
      "At random state 24,the training accuracy is:-0.4009695516201147\n",
      "At random state 24,the testing accuracy is:- 0.23700622039991392\n",
      "\n",
      "\n",
      "At random state 25,the training accuracy is:-0.3872852164225197\n",
      "At random state 25,the testing accuracy is:- 0.2857545713280293\n",
      "\n",
      "\n",
      "At random state 26,the training accuracy is:-0.373492521722562\n",
      "At random state 26,the testing accuracy is:- 0.3570465945472763\n",
      "\n",
      "\n",
      "At random state 27,the training accuracy is:-0.3853612529960597\n",
      "At random state 27,the testing accuracy is:- 0.3200883336422755\n",
      "\n",
      "\n",
      "At random state 28,the training accuracy is:-0.4053914345039713\n",
      "At random state 28,the testing accuracy is:- 0.22969703483016013\n",
      "\n",
      "\n",
      "At random state 29,the training accuracy is:-0.40451288485532433\n",
      "At random state 29,the testing accuracy is:- 0.19765027396884804\n",
      "\n",
      "\n",
      "At random state 30,the training accuracy is:-0.36693572181305\n",
      "At random state 30,the testing accuracy is:- 0.3783571251635153\n",
      "\n",
      "\n",
      "At random state 31,the training accuracy is:-0.3795313750170515\n",
      "At random state 31,the testing accuracy is:- 0.3229513807282972\n",
      "\n",
      "\n",
      "At random state 32,the training accuracy is:-0.3685576596306932\n",
      "At random state 32,the testing accuracy is:- 0.3671499580137658\n",
      "\n",
      "\n",
      "At random state 33,the training accuracy is:-0.374633324232825\n",
      "At random state 33,the testing accuracy is:- 0.3503249588399542\n",
      "\n",
      "\n",
      "At random state 34,the training accuracy is:-0.3670604216412361\n",
      "At random state 34,the testing accuracy is:- 0.3924145850362383\n",
      "\n",
      "\n",
      "At random state 35,the training accuracy is:-0.3849378452508391\n",
      "At random state 35,the testing accuracy is:- 0.33147987417573754\n",
      "\n",
      "\n",
      "At random state 36,the training accuracy is:-0.3847552137593607\n",
      "At random state 36,the testing accuracy is:- 0.2703900592740791\n",
      "\n",
      "\n",
      "At random state 37,the training accuracy is:-0.34899945766206086\n",
      "At random state 37,the testing accuracy is:- 0.4128426546458116\n",
      "\n",
      "\n",
      "At random state 38,the training accuracy is:-0.38650707960273367\n",
      "At random state 38,the testing accuracy is:- 0.2833985042820415\n",
      "\n",
      "\n",
      "At random state 39,the training accuracy is:-0.3706020285098687\n",
      "At random state 39,the testing accuracy is:- 0.3718833413484989\n",
      "\n",
      "\n",
      "At random state 40,the training accuracy is:-0.3642294289210505\n",
      "At random state 40,the testing accuracy is:- 0.3925435827595458\n",
      "\n",
      "\n",
      "At random state 41,the training accuracy is:-0.3609173288430392\n",
      "At random state 41,the testing accuracy is:- 0.4018359148946382\n",
      "\n",
      "\n",
      "At random state 42,the training accuracy is:-0.4200558658334025\n",
      "At random state 42,the testing accuracy is:- 0.10796880791419616\n",
      "\n",
      "\n",
      "At random state 43,the training accuracy is:-0.4041459448446313\n",
      "At random state 43,the testing accuracy is:- 0.25754093508042974\n",
      "\n",
      "\n",
      "At random state 44,the training accuracy is:-0.3725463631852006\n",
      "At random state 44,the testing accuracy is:- 0.3671356850817833\n",
      "\n",
      "\n",
      "At random state 45,the training accuracy is:-0.4137230485402983\n",
      "At random state 45,the testing accuracy is:- 0.22445225846745354\n",
      "\n",
      "\n",
      "At random state 46,the training accuracy is:-0.3437256240883124\n",
      "At random state 46,the testing accuracy is:- 0.3896606094506979\n",
      "\n",
      "\n",
      "At random state 47,the training accuracy is:-0.37188114106913295\n",
      "At random state 47,the testing accuracy is:- 0.35395872265988104\n",
      "\n",
      "\n",
      "At random state 48,the training accuracy is:-0.36429183378263275\n",
      "At random state 48,the testing accuracy is:- 0.3979596000732686\n",
      "\n",
      "\n",
      "At random state 49,the training accuracy is:-0.377539855714624\n",
      "At random state 49,the testing accuracy is:- 0.33197433115663066\n",
      "\n",
      "\n",
      "At random state 50,the training accuracy is:-0.37893923298505605\n",
      "At random state 50,the testing accuracy is:- 0.34563177771023357\n",
      "\n",
      "\n",
      "At random state 51,the training accuracy is:-0.3748812535527184\n",
      "At random state 51,the testing accuracy is:- 0.34622301247708853\n",
      "\n",
      "\n",
      "At random state 52,the training accuracy is:-0.3690443454685478\n",
      "At random state 52,the testing accuracy is:- 0.3682296312128147\n",
      "\n",
      "\n",
      "At random state 53,the training accuracy is:-0.3646780402149977\n",
      "At random state 53,the testing accuracy is:- 0.3864862432119227\n",
      "\n",
      "\n",
      "At random state 54,the training accuracy is:-0.3812097696299068\n",
      "At random state 54,the testing accuracy is:- 0.3230795326762549\n",
      "\n",
      "\n",
      "At random state 55,the training accuracy is:-0.3804240550840484\n",
      "At random state 55,the testing accuracy is:- 0.3272919939417781\n",
      "\n",
      "\n",
      "At random state 56,the training accuracy is:-0.38888132640425854\n",
      "At random state 56,the testing accuracy is:- 0.2619212862528705\n",
      "\n",
      "\n",
      "At random state 57,the training accuracy is:-0.36282545034634306\n",
      "At random state 57,the testing accuracy is:- 0.4099319211959537\n",
      "\n",
      "\n",
      "At random state 58,the training accuracy is:-0.3904276399883323\n",
      "At random state 58,the testing accuracy is:- 0.28087570332280665\n",
      "\n",
      "\n",
      "At random state 59,the training accuracy is:-0.36918999968594834\n",
      "At random state 59,the testing accuracy is:- 0.36721675911308405\n",
      "\n",
      "\n",
      "At random state 60,the training accuracy is:-0.36276157486159943\n",
      "At random state 60,the testing accuracy is:- 0.4342158637805855\n",
      "\n",
      "\n",
      "At random state 61,the training accuracy is:-0.3596569629577455\n",
      "At random state 61,the testing accuracy is:- 0.42430912062832304\n",
      "\n",
      "\n",
      "At random state 62,the training accuracy is:-0.36218820814339425\n",
      "At random state 62,the testing accuracy is:- 0.3402679535175044\n",
      "\n",
      "\n",
      "At random state 63,the training accuracy is:-0.36020153914715214\n",
      "At random state 63,the testing accuracy is:- 0.40925944052697116\n",
      "\n",
      "\n",
      "At random state 64,the training accuracy is:-0.34487518402780026\n",
      "At random state 64,the testing accuracy is:- 0.45685137910944595\n",
      "\n",
      "\n",
      "At random state 65,the training accuracy is:-0.3966493366743805\n",
      "At random state 65,the testing accuracy is:- 0.27103911844105455\n",
      "\n",
      "\n",
      "At random state 66,the training accuracy is:-0.36941312653397496\n",
      "At random state 66,the testing accuracy is:- 0.37171519604211156\n",
      "\n",
      "\n",
      "At random state 67,the training accuracy is:-0.3577974392746197\n",
      "At random state 67,the testing accuracy is:- 0.4089321958973776\n",
      "\n",
      "\n",
      "At random state 68,the training accuracy is:-0.4112434481572017\n",
      "At random state 68,the testing accuracy is:- 0.1876030590518647\n",
      "\n",
      "\n",
      "At random state 69,the training accuracy is:-0.3583537425297256\n",
      "At random state 69,the testing accuracy is:- 0.4055461597734453\n",
      "\n",
      "\n",
      "At random state 70,the training accuracy is:-0.40782071088368554\n",
      "At random state 70,the testing accuracy is:- 0.12457420628140259\n",
      "\n",
      "\n",
      "At random state 71,the training accuracy is:-0.3798566422299211\n",
      "At random state 71,the testing accuracy is:- 0.3310077740650834\n",
      "\n",
      "\n",
      "At random state 72,the training accuracy is:-0.37306545398657154\n",
      "At random state 72,the testing accuracy is:- 0.33282576705225164\n",
      "\n",
      "\n",
      "At random state 73,the training accuracy is:-0.3684736133822437\n",
      "At random state 73,the testing accuracy is:- 0.3756517084867398\n",
      "\n",
      "\n",
      "At random state 74,the training accuracy is:-0.36328541761317845\n",
      "At random state 74,the testing accuracy is:- 0.414540570310433\n",
      "\n",
      "\n",
      "At random state 75,the training accuracy is:-0.3699093187667536\n",
      "At random state 75,the testing accuracy is:- 0.37665450836382297\n",
      "\n",
      "\n",
      "At random state 76,the training accuracy is:-0.3893765947869846\n",
      "At random state 76,the testing accuracy is:- 0.2446996775975493\n",
      "\n",
      "\n",
      "At random state 77,the training accuracy is:-0.36208736257404006\n",
      "At random state 77,the testing accuracy is:- 0.38689241011567244\n",
      "\n",
      "\n",
      "At random state 78,the training accuracy is:-0.3936404592790971\n",
      "At random state 78,the testing accuracy is:- 0.2786653093015008\n",
      "\n",
      "\n",
      "At random state 79,the training accuracy is:-0.3400734467804928\n",
      "At random state 79,the testing accuracy is:- 0.5084908819694649\n",
      "\n",
      "\n",
      "At random state 80,the training accuracy is:-0.34891747740210666\n",
      "At random state 80,the testing accuracy is:- 0.5086207408821506\n",
      "\n",
      "\n",
      "At random state 81,the training accuracy is:-0.35513373474139565\n",
      "At random state 81,the testing accuracy is:- 0.4149346606972969\n",
      "\n",
      "\n",
      "At random state 82,the training accuracy is:-0.37417707170637116\n",
      "At random state 82,the testing accuracy is:- 0.3509979602373102\n",
      "\n",
      "\n",
      "At random state 83,the training accuracy is:-0.3777269477125591\n",
      "At random state 83,the testing accuracy is:- 0.323672073767867\n",
      "\n",
      "\n",
      "At random state 84,the training accuracy is:-0.38401378181768153\n",
      "At random state 84,the testing accuracy is:- 0.3127841540168669\n",
      "\n",
      "\n",
      "At random state 85,the training accuracy is:-0.376142718876315\n",
      "At random state 85,the testing accuracy is:- 0.35006127408867393\n",
      "\n",
      "\n",
      "At random state 86,the training accuracy is:-0.3767878645972712\n",
      "At random state 86,the testing accuracy is:- 0.3444389459787979\n",
      "\n",
      "\n",
      "At random state 87,the training accuracy is:-0.386606834116077\n",
      "At random state 87,the testing accuracy is:- 0.2295416451299277\n",
      "\n",
      "\n",
      "At random state 88,the training accuracy is:-0.3555900942301573\n",
      "At random state 88,the testing accuracy is:- 0.4462737924208696\n",
      "\n",
      "\n",
      "At random state 89,the training accuracy is:-0.3776188229055102\n",
      "At random state 89,the testing accuracy is:- 0.3382111271087993\n",
      "\n",
      "\n",
      "At random state 90,the training accuracy is:-0.35598740233084814\n",
      "At random state 90,the testing accuracy is:- 0.4188943675785999\n",
      "\n",
      "\n",
      "At random state 91,the training accuracy is:-0.37189951588468795\n",
      "At random state 91,the testing accuracy is:- 0.3601565810059806\n",
      "\n",
      "\n",
      "At random state 92,the training accuracy is:-0.37459606418072844\n",
      "At random state 92,the testing accuracy is:- 0.3541542254552803\n",
      "\n",
      "\n",
      "At random state 93,the training accuracy is:-0.4045365985584488\n",
      "At random state 93,the testing accuracy is:- 0.22737572896847547\n",
      "\n",
      "\n",
      "At random state 94,the training accuracy is:-0.39372739145675384\n",
      "At random state 94,the testing accuracy is:- 0.2720604116480444\n",
      "\n",
      "\n",
      "At random state 95,the training accuracy is:-0.3862133774021912\n",
      "At random state 95,the testing accuracy is:- 0.3010575834925825\n",
      "\n",
      "\n",
      "At random state 96,the training accuracy is:-0.3544193864212418\n",
      "At random state 96,the testing accuracy is:- 0.4253245406131324\n",
      "\n",
      "\n",
      "At random state 97,the training accuracy is:-0.36415109406161483\n",
      "At random state 97,the testing accuracy is:- 0.41014984649060593\n",
      "\n",
      "\n",
      "At random state 98,the training accuracy is:-0.34983395760007263\n",
      "At random state 98,the testing accuracy is:- 0.4322690928833409\n",
      "\n",
      "\n",
      "At random state 99,the training accuracy is:-0.3640872612019751\n",
      "At random state 99,the testing accuracy is:- 0.41102180904046104\n",
      "\n",
      "\n"
     ]
    }
   ],
   "source": [
    "for i in range(0,100):\n",
    "    features_train,features_test,target_train,target_test=train_test_split(features,target,test_size=0.2,random_state=i)\n",
    "    lr.fit(features_train,target_train)\n",
    "    pred_train=lr.predict(features_train)\n",
    "    pred_test=lr.predict(features_test)\n",
    "    print(f\"At random state {i},the training accuracy is:-{r2_score(target_train,pred_train)}\")\n",
    "    print(f\"At random state {i},the testing accuracy is:- {r2_score(target_test,pred_test)}\")\n",
    "    print(\"\\n\")"
   ]
  },
  {
   "cell_type": "code",
   "execution_count": 45,
   "id": "035b26fa",
   "metadata": {},
   "outputs": [],
   "source": [
    "features_train,features_test,target_train,target_test=train_test_split(features,target,test_size=0.2,random_state=12)"
   ]
  },
  {
   "cell_type": "code",
   "execution_count": 46,
   "id": "412c86d7",
   "metadata": {},
   "outputs": [
    {
     "data": {
      "text/plain": [
       "LinearRegression()"
      ]
     },
     "execution_count": 46,
     "metadata": {},
     "output_type": "execute_result"
    }
   ],
   "source": [
    "# train the model\n",
    "lr.fit(features_train,target_train)"
   ]
  },
  {
   "cell_type": "code",
   "execution_count": 47,
   "id": "51255af3",
   "metadata": {},
   "outputs": [],
   "source": [
    "pred_test=lr.predict(features_test)"
   ]
  },
  {
   "cell_type": "code",
   "execution_count": 48,
   "id": "3a5972be",
   "metadata": {},
   "outputs": [
    {
     "name": "stdout",
     "output_type": "stream",
     "text": [
      "0.34397033297856505\n"
     ]
    }
   ],
   "source": [
    "print(r2_score(target_test,pred_test))"
   ]
  },
  {
   "cell_type": "markdown",
   "id": "c14c4c1b",
   "metadata": {},
   "source": [
    "# cross-validation of the model:"
   ]
  },
  {
   "cell_type": "code",
   "execution_count": 49,
   "id": "ff1db260",
   "metadata": {},
   "outputs": [
    {
     "name": "stdout",
     "output_type": "stream",
     "text": [
      "At cross fold 2 the cv score is 0.3270801167406513 and accuracy score for training is -0.29698823968926513 and accuracy for the testing is 0.34397033297856505\n",
      "\n",
      "\n",
      "At cross fold 3 the cv score is 0.32033286730598814 and accuracy score for training is -0.29698823968926513 and accuracy for the testing is 0.34397033297856505\n",
      "\n",
      "\n",
      "At cross fold 4 the cv score is 0.3218196693768357 and accuracy score for training is -0.29698823968926513 and accuracy for the testing is 0.34397033297856505\n",
      "\n",
      "\n",
      "At cross fold 5 the cv score is 0.29569928663871764 and accuracy score for training is -0.29698823968926513 and accuracy for the testing is 0.34397033297856505\n",
      "\n",
      "\n",
      "At cross fold 6 the cv score is 0.33096341839295573 and accuracy score for training is -0.29698823968926513 and accuracy for the testing is 0.34397033297856505\n",
      "\n",
      "\n",
      "At cross fold 7 the cv score is 0.3257704419996536 and accuracy score for training is -0.29698823968926513 and accuracy for the testing is 0.34397033297856505\n",
      "\n",
      "\n",
      "At cross fold 8 the cv score is 0.33100605845135816 and accuracy score for training is -0.29698823968926513 and accuracy for the testing is 0.34397033297856505\n",
      "\n",
      "\n",
      "At cross fold 9 the cv score is 0.3043911239889372 and accuracy score for training is -0.29698823968926513 and accuracy for the testing is 0.34397033297856505\n",
      "\n",
      "\n"
     ]
    }
   ],
   "source": [
    "Train_accuracy=r2_score(target_train,pred_train)\n",
    "Test_accuracy=r2_score(target_test,pred_test)\n",
    "\n",
    "from sklearn.model_selection import cross_val_score\n",
    "for j in range(2,10):\n",
    "    cv_score=cross_val_score(lr,features,target,cv=j)\n",
    "    cv_mean=cv_score.mean()\n",
    "    print(f\"At cross fold {j} the cv score is {cv_mean} and accuracy score for training is {Train_accuracy} and accuracy for the testing is {Test_accuracy}\")\n",
    "    print(\"\\n\")"
   ]
  },
  {
   "cell_type": "markdown",
   "id": "cb86037f",
   "metadata": {},
   "source": [
    "since the number of folds don't have such impact on the accuracy and cv_score.so cv =5 is selected.\n",
    "\n",
    "Here we have handled the problem of the overfitting and the underfitting by checking the training and testing score"
   ]
  },
  {
   "cell_type": "code",
   "execution_count": 50,
   "id": "87893f93",
   "metadata": {},
   "outputs": [
    {
     "data": {
      "image/png": "[encoded data removed]",
      "text/plain": [
       "<Figure size 576x432 with 1 Axes>"
      ]
     },
     "metadata": {
      "needs_background": "light"
     },
     "output_type": "display_data"
    }
   ],
   "source": [
    "import matplotlib.pyplot as plt\n",
    "plt.figure(figsize=(8,6))\n",
    "plt.scatter(x=target_test,y=pred_test,color='r')\n",
    "plt.plot(target_test,target_test,color='b')\n",
    "plt.xlabel('Actual salary',fontsize=14)\n",
    "plt.ylabel('Predicted salary',fontsize=14)\n",
    "plt.title('Linear Regression',fontsize=18)\n",
    "plt.savefig('lr.png')\n",
    "plt.show()"
   ]
  },
  {
   "cell_type": "markdown",
   "id": "84f997eb",
   "metadata": {},
   "source": [
    "# Regularization:"
   ]
  },
  {
   "cell_type": "code",
   "execution_count": 51,
   "id": "ce9667cb",
   "metadata": {},
   "outputs": [],
   "source": [
    "from sklearn.model_selection import GridSearchCV\n",
    "from sklearn.model_selection import cross_val_score\n",
    "import warnings\n",
    "warnings.filterwarnings('ignore')"
   ]
  },
  {
   "cell_type": "code",
   "execution_count": 52,
   "id": "2a04278d",
   "metadata": {},
   "outputs": [
    {
     "name": "stdout",
     "output_type": "stream",
     "text": [
      "{'alpha': 10, 'random_state': 0}\n"
     ]
    }
   ],
   "source": [
    "from sklearn.linear_model import Lasso\n",
    "\n",
    "parameters = {'alpha':[.0001,.001,.01,.1,1,10],'random_state':list(range(0,10))}\n",
    "\n",
    "ls=Lasso()\n",
    "clf=GridSearchCV(ls,parameters)\n",
    "clf.fit(features_train,target_train)\n",
    "\n",
    "print(clf.best_params_)"
   ]
  },
  {
   "cell_type": "code",
   "execution_count": 53,
   "id": "e248d040",
   "metadata": {},
   "outputs": [
    {
     "data": {
      "text/plain": [
       "37.67649888252015"
      ]
     },
     "execution_count": 53,
     "metadata": {},
     "output_type": "execute_result"
    }
   ],
   "source": [
    "# final model training\n",
    "ls=Lasso(alpha=10,random_state=0)\n",
    "ls.fit(features_train,target_train)\n",
    "ls_score_training = ls.score(features_train,target_train)\n",
    "pred_ls = ls.predict(features_test)\n",
    "ls_score_training*100"
   ]
  },
  {
   "cell_type": "code",
   "execution_count": 54,
   "id": "422e8579",
   "metadata": {},
   "outputs": [],
   "source": [
    "pred_ls = ls.predict(features_test)"
   ]
  },
  {
   "cell_type": "code",
   "execution_count": 55,
   "id": "a2e4df83",
   "metadata": {},
   "outputs": [
    {
     "data": {
      "text/plain": [
       "34.38690842511897"
      ]
     },
     "execution_count": 55,
     "metadata": {},
     "output_type": "execute_result"
    }
   ],
   "source": [
    "lss=r2_score(target_test,pred_ls)\n",
    "lss*100"
   ]
  },
  {
   "cell_type": "code",
   "execution_count": 56,
   "id": "8a782b97",
   "metadata": {},
   "outputs": [
    {
     "data": {
      "text/plain": [
       "29.575407060855923"
      ]
     },
     "execution_count": 56,
     "metadata": {},
     "output_type": "execute_result"
    }
   ],
   "source": [
    "cv_score=cross_val_score(ls,features,target,cv=5)\n",
    "cv_mean=cv_score.mean()\n",
    "cv_mean*100"
   ]
  },
  {
   "cell_type": "markdown",
   "id": "a250be87",
   "metadata": {},
   "source": [
    "Ensemble technique:"
   ]
  },
  {
   "cell_type": "code",
   "execution_count": 57,
   "id": "49c72539",
   "metadata": {},
   "outputs": [
    {
     "name": "stdout",
     "output_type": "stream",
     "text": [
      "{'criterion': 'mae', 'max_features': 'sqrt'}\n"
     ]
    }
   ],
   "source": [
    "from sklearn.model_selection import GridSearchCV\n",
    "from sklearn.ensemble import RandomForestRegressor\n",
    "\n",
    "parameters= {'criterion':['mse','mae'],'max_features':[\"auto\",\"sqrt\",\"log2\"]}\n",
    "\n",
    "rf=RandomForestRegressor()\n",
    "clf= GridSearchCV(rf,parameters)\n",
    "clf.fit(features_train,target_train)\n",
    "\n",
    "print(clf.best_params_)"
   ]
  },
  {
   "cell_type": "code",
   "execution_count": 58,
   "id": "9c913508",
   "metadata": {},
   "outputs": [
    {
     "name": "stdout",
     "output_type": "stream",
     "text": [
      "R2 score: 34.189535989546584\n",
      "cross val score: 26.167530641170206\n"
     ]
    }
   ],
   "source": [
    "rf=RandomForestRegressor(criterion='mae',max_features=\"auto\")\n",
    "rf.fit(features_train,target_train)\n",
    "rf.score(features_train,target_train)\n",
    "pred_decision = rf.predict(features_test)\n",
    "\n",
    "rfs=r2_score(target_test,pred_decision)\n",
    "print('R2 score:',rfs*100)\n",
    "\n",
    "rfscore = cross_val_score(rf,features,target,cv=5)\n",
    "rfc = rfscore.mean()\n",
    "print('cross val score:',rfc*100)"
   ]
  },
  {
   "cell_type": "code",
   "execution_count": 59,
   "id": "f1c5396e",
   "metadata": {},
   "outputs": [],
   "source": [
    "import pickle\n",
    "filename = 'salary.pkl'\n",
    "pickle.dump(rf, open(filename, 'wb'))"
   ]
  },
  {
   "cell_type": "markdown",
   "id": "9df8f263",
   "metadata": {},
   "source": [
    "conclusion:"
   ]
  },
  {
   "cell_type": "code",
   "execution_count": 60,
   "id": "44f6943d",
   "metadata": {},
   "outputs": [
    {
     "name": "stdout",
     "output_type": "stream",
     "text": [
      "34.189535989546584\n"
     ]
    }
   ],
   "source": [
    "loaded_model = pickle.load(open('salary.pkl','rb'))\n",
    "result = loaded_model.score(features_test,target_test)\n",
    "print(result*100)"
   ]
  },
  {
   "cell_type": "code",
   "execution_count": 61,
   "id": "557821ee",
   "metadata": {},
   "outputs": [],
   "source": [
    "conclusion=pd.DataFrame([loaded_model.predict(features_test)[:],pred_decision[:]],index=['Predicted','Orginal'])"
   ]
  },
  {
   "cell_type": "code",
   "execution_count": 62,
   "id": "8390389a",
   "metadata": {},
   "outputs": [
    {
     "data": {
      "text/html": [
       "<div>\n",
       "<style scoped>\n",
       "    .dataframe tbody tr th:only-of-type {\n",
       "        vertical-align: middle;\n",
       "    }\n",
       "\n",
       "    .dataframe tbody tr th {\n",
       "        vertical-align: top;\n",
       "    }\n",
       "\n",
       "    .dataframe thead th {\n",
       "        text-align: right;\n",
       "    }\n",
       "</style>\n",
       "<table border=\"1\" class=\"dataframe\">\n",
       "  <thead>\n",
       "    <tr style=\"text-align: right;\">\n",
       "      <th></th>\n",
       "      <th>0</th>\n",
       "      <th>1</th>\n",
       "      <th>2</th>\n",
       "      <th>3</th>\n",
       "      <th>4</th>\n",
       "      <th>5</th>\n",
       "      <th>6</th>\n",
       "      <th>7</th>\n",
       "      <th>8</th>\n",
       "      <th>9</th>\n",
       "      <th>...</th>\n",
       "      <th>70</th>\n",
       "      <th>71</th>\n",
       "      <th>72</th>\n",
       "      <th>73</th>\n",
       "      <th>74</th>\n",
       "      <th>75</th>\n",
       "      <th>76</th>\n",
       "      <th>77</th>\n",
       "      <th>78</th>\n",
       "      <th>79</th>\n",
       "    </tr>\n",
       "  </thead>\n",
       "  <tbody>\n",
       "    <tr>\n",
       "      <th>Predicted</th>\n",
       "      <td>145872.24</td>\n",
       "      <td>112815.315</td>\n",
       "      <td>156769.72</td>\n",
       "      <td>137029.72</td>\n",
       "      <td>85027.695</td>\n",
       "      <td>128702.88</td>\n",
       "      <td>95204.27</td>\n",
       "      <td>78452.55</td>\n",
       "      <td>145209.795</td>\n",
       "      <td>108563.835</td>\n",
       "      <td>...</td>\n",
       "      <td>69988.985</td>\n",
       "      <td>105364.97</td>\n",
       "      <td>121280.37</td>\n",
       "      <td>91617.58</td>\n",
       "      <td>86201.3</td>\n",
       "      <td>81098.26</td>\n",
       "      <td>111906.375</td>\n",
       "      <td>78435.09</td>\n",
       "      <td>134395.14</td>\n",
       "      <td>176003.5</td>\n",
       "    </tr>\n",
       "    <tr>\n",
       "      <th>Orginal</th>\n",
       "      <td>145872.24</td>\n",
       "      <td>112815.315</td>\n",
       "      <td>156769.72</td>\n",
       "      <td>137029.72</td>\n",
       "      <td>85027.695</td>\n",
       "      <td>128702.88</td>\n",
       "      <td>95204.27</td>\n",
       "      <td>78452.55</td>\n",
       "      <td>145209.795</td>\n",
       "      <td>108563.835</td>\n",
       "      <td>...</td>\n",
       "      <td>69988.985</td>\n",
       "      <td>105364.97</td>\n",
       "      <td>121280.37</td>\n",
       "      <td>91617.58</td>\n",
       "      <td>86201.3</td>\n",
       "      <td>81098.26</td>\n",
       "      <td>111906.375</td>\n",
       "      <td>78435.09</td>\n",
       "      <td>134395.14</td>\n",
       "      <td>176003.5</td>\n",
       "    </tr>\n",
       "  </tbody>\n",
       "</table>\n",
       "<p>2 rows × 80 columns</p>\n",
       "</div>"
      ],
      "text/plain": [
       "                  0           1          2          3          4          5   \\\n",
       "Predicted  145872.24  112815.315  156769.72  137029.72  85027.695  128702.88   \n",
       "Orginal    145872.24  112815.315  156769.72  137029.72  85027.695  128702.88   \n",
       "\n",
       "                 6         7           8           9   ...         70  \\\n",
       "Predicted  95204.27  78452.55  145209.795  108563.835  ...  69988.985   \n",
       "Orginal    95204.27  78452.55  145209.795  108563.835  ...  69988.985   \n",
       "\n",
       "                  71         72        73       74        75          76  \\\n",
       "Predicted  105364.97  121280.37  91617.58  86201.3  81098.26  111906.375   \n",
       "Orginal    105364.97  121280.37  91617.58  86201.3  81098.26  111906.375   \n",
       "\n",
       "                 77         78        79  \n",
       "Predicted  78435.09  134395.14  176003.5  \n",
       "Orginal    78435.09  134395.14  176003.5  \n",
       "\n",
       "[2 rows x 80 columns]"
      ]
     },
     "execution_count": 62,
     "metadata": {},
     "output_type": "execute_result"
    }
   ],
   "source": [
    "conclusion"
   ]
  }
 ],
 "metadata": {
  "kernelspec": {
   "display_name": "Python 3 (ipykernel)",
   "language": "python",
   "name": "python3"
  },
  "language_info": {
   "codemirror_mode": {
    "name": "ipython",
    "version": 3
   },
   "file_extension": ".py",
   "mimetype": "text/x-python",
   "name": "python",
   "nbconvert_exporter": "python",
   "pygments_lexer": "ipython3",
   "version": "3.9.12"
  }
 },
 "nbformat": 4,
 "nbformat_minor": 5
}
