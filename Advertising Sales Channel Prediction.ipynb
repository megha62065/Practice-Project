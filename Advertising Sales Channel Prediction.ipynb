{
 "cells": [
  {
   "cell_type": "markdown",
   "id": "f935726f",
   "metadata": {},
   "source": [
    "# Advertising Sales Channel Prediction"
   ]
  },
  {
   "cell_type": "markdown",
   "id": "2fa87be9",
   "metadata": {},
   "source": [
    "Sales Channel Prediction Case Study\n",
    "\n",
    "When a company enters a market, the distribution strategy and channel it uses are keys to its success in the market, as well as market know-how and customer knowledge and understanding. Because an effective distribution strategy under efficient supply-chain management opens doors for attaining competitive advantage and strong brand equity in the market, it is a component of the marketing mix that cannot be ignored .\n",
    "\n",
    "The distribution strategy and the channel design have to be right the first time. The case study of Sales channel includes the detailed study of TV, radio and newspaper channel. The predict the total sales generated from all the sales channel."
   ]
  },
  {
   "cell_type": "code",
   "execution_count": 1,
   "id": "820acdfe",
   "metadata": {},
   "outputs": [],
   "source": [
    "import pandas as pd\n",
    "import numpy as np\n",
    "import matplotlib.pyplot as plt\n",
    "import warnings\n",
    "warnings.filterwarnings('ignore')\n",
    "%matplotlib inline\n",
    "import seaborn as sns\n",
    "from sklearn.metrics import mean_squared_error, mean_absolute_error, mean_squared_log_error\n",
    "from sklearn.svm import SVR\n",
    "from sklearn.ensemble import RandomForestRegressor\n",
    "from sklearn.neighbors import KNeighborsRegressor\n",
    "from sklearn.linear_model import LinearRegression\n",
    "from sklearn.linear_model import Ridge,Lasso\n",
    "from sklearn.model_selection import train_test_split\n",
    "from sklearn.model_selection import cross_val_score\n",
    "from sklearn.preprocessing import LabelEncoder,OneHotEncoder"
   ]
  },
  {
   "cell_type": "markdown",
   "id": "1de19bf9",
   "metadata": {},
   "source": [
    "# Importing the Dataset"
   ]
  },
  {
   "cell_type": "code",
   "execution_count": 2,
   "id": "0bf43f28",
   "metadata": {},
   "outputs": [],
   "source": [
    "df=pd.read_csv(\"https://raw.githubusercontent.com/dsrscientist/DSData/master/Advertising.csv\")"
   ]
  },
  {
   "cell_type": "markdown",
   "id": "c89223cd",
   "metadata": {},
   "source": [
    "checking the first five rows of the dataset"
   ]
  },
  {
   "cell_type": "code",
   "execution_count": 3,
   "id": "95b44b84",
   "metadata": {},
   "outputs": [
    {
     "data": {
      "text/html": [
       "<div>\n",
       "<style scoped>\n",
       "    .dataframe tbody tr th:only-of-type {\n",
       "        vertical-align: middle;\n",
       "    }\n",
       "\n",
       "    .dataframe tbody tr th {\n",
       "        vertical-align: top;\n",
       "    }\n",
       "\n",
       "    .dataframe thead th {\n",
       "        text-align: right;\n",
       "    }\n",
       "</style>\n",
       "<table border=\"1\" class=\"dataframe\">\n",
       "  <thead>\n",
       "    <tr style=\"text-align: right;\">\n",
       "      <th></th>\n",
       "      <th>Unnamed: 0</th>\n",
       "      <th>TV</th>\n",
       "      <th>radio</th>\n",
       "      <th>newspaper</th>\n",
       "      <th>sales</th>\n",
       "    </tr>\n",
       "  </thead>\n",
       "  <tbody>\n",
       "    <tr>\n",
       "      <th>0</th>\n",
       "      <td>1</td>\n",
       "      <td>230.1</td>\n",
       "      <td>37.8</td>\n",
       "      <td>69.2</td>\n",
       "      <td>22.1</td>\n",
       "    </tr>\n",
       "    <tr>\n",
       "      <th>1</th>\n",
       "      <td>2</td>\n",
       "      <td>44.5</td>\n",
       "      <td>39.3</td>\n",
       "      <td>45.1</td>\n",
       "      <td>10.4</td>\n",
       "    </tr>\n",
       "    <tr>\n",
       "      <th>2</th>\n",
       "      <td>3</td>\n",
       "      <td>17.2</td>\n",
       "      <td>45.9</td>\n",
       "      <td>69.3</td>\n",
       "      <td>9.3</td>\n",
       "    </tr>\n",
       "    <tr>\n",
       "      <th>3</th>\n",
       "      <td>4</td>\n",
       "      <td>151.5</td>\n",
       "      <td>41.3</td>\n",
       "      <td>58.5</td>\n",
       "      <td>18.5</td>\n",
       "    </tr>\n",
       "    <tr>\n",
       "      <th>4</th>\n",
       "      <td>5</td>\n",
       "      <td>180.8</td>\n",
       "      <td>10.8</td>\n",
       "      <td>58.4</td>\n",
       "      <td>12.9</td>\n",
       "    </tr>\n",
       "  </tbody>\n",
       "</table>\n",
       "</div>"
      ],
      "text/plain": [
       "   Unnamed: 0     TV  radio  newspaper  sales\n",
       "0           1  230.1   37.8       69.2   22.1\n",
       "1           2   44.5   39.3       45.1   10.4\n",
       "2           3   17.2   45.9       69.3    9.3\n",
       "3           4  151.5   41.3       58.5   18.5\n",
       "4           5  180.8   10.8       58.4   12.9"
      ]
     },
     "execution_count": 3,
     "metadata": {},
     "output_type": "execute_result"
    }
   ],
   "source": [
    "\n",
    "df.head()"
   ]
  },
  {
   "cell_type": "markdown",
   "id": "c81a72fb",
   "metadata": {},
   "source": [
    "# Lets start the EDA process on this Dataset\n"
   ]
  },
  {
   "cell_type": "markdown",
   "id": "8124c1f2",
   "metadata": {},
   "source": [
    "\n",
    "Checking the number of rows and columns of the dataset"
   ]
  },
  {
   "cell_type": "code",
   "execution_count": 5,
   "id": "0b4a87c8",
   "metadata": {},
   "outputs": [
    {
     "data": {
      "text/plain": [
       "(200, 5)"
      ]
     },
     "execution_count": 5,
     "metadata": {},
     "output_type": "execute_result"
    }
   ],
   "source": [
    "df.shape"
   ]
  },
  {
   "cell_type": "markdown",
   "id": "68962739",
   "metadata": {},
   "source": [
    "This dataset contains 200 rows and 5 columns\n",
    "\n",
    "Checking the Datatypes of all the values of the Dataset"
   ]
  },
  {
   "cell_type": "code",
   "execution_count": 6,
   "id": "b337ed30",
   "metadata": {},
   "outputs": [
    {
     "data": {
      "text/plain": [
       "Unnamed: 0      int64\n",
       "TV            float64\n",
       "radio         float64\n",
       "newspaper     float64\n",
       "sales         float64\n",
       "dtype: object"
      ]
     },
     "execution_count": 6,
     "metadata": {},
     "output_type": "execute_result"
    }
   ],
   "source": [
    "df.dtypes"
   ]
  },
  {
   "cell_type": "markdown",
   "id": "6bd55250",
   "metadata": {},
   "source": [
    "As we can see above all the variables' values are of either integer or float datatype.Means all values\n",
    "\n",
    "are continuous."
   ]
  },
  {
   "cell_type": "markdown",
   "id": "acecfbd2",
   "metadata": {},
   "source": [
    "\n",
    "Checking the names of all columns separatel"
   ]
  },
  {
   "cell_type": "code",
   "execution_count": 7,
   "id": "52bb0fbf",
   "metadata": {},
   "outputs": [
    {
     "data": {
      "text/plain": [
       "Index(['Unnamed: 0', 'TV', 'radio', 'newspaper', 'sales'], dtype='object')"
      ]
     },
     "execution_count": 7,
     "metadata": {},
     "output_type": "execute_result"
    }
   ],
   "source": [
    "df.columns"
   ]
  },
  {
   "cell_type": "markdown",
   "id": "7866404d",
   "metadata": {},
   "source": [
    "# Missing Values Detection"
   ]
  },
  {
   "cell_type": "code",
   "execution_count": 8,
   "id": "5cae1e65",
   "metadata": {},
   "outputs": [
    {
     "data": {
      "text/plain": [
       "Unnamed: 0    0\n",
       "TV            0\n",
       "radio         0\n",
       "newspaper     0\n",
       "sales         0\n",
       "dtype: int64"
      ]
     },
     "execution_count": 8,
     "metadata": {},
     "output_type": "execute_result"
    }
   ],
   "source": [
    "df.isnull().sum()"
   ]
  },
  {
   "cell_type": "markdown",
   "id": "0ea87232",
   "metadata": {},
   "source": [
    "we dont have any null value in any column."
   ]
  },
  {
   "cell_type": "markdown",
   "id": "961d005d",
   "metadata": {},
   "source": [
    "# Outliers' Detection"
   ]
  },
  {
   "cell_type": "markdown",
   "id": "113ed6a1",
   "metadata": {},
   "source": [
    "Plotting the boxplots for detecting the outliers"
   ]
  },
  {
   "cell_type": "code",
   "execution_count": 9,
   "id": "9d2928e4",
   "metadata": {},
   "outputs": [
    {
     "data": {
      "text/plain": [
       "Index(['Unnamed: 0', 'TV', 'radio', 'newspaper', 'sales'], dtype='object')"
      ]
     },
     "execution_count": 9,
     "metadata": {},
     "output_type": "execute_result"
    }
   ],
   "source": [
    "df.columns"
   ]
  },
  {
   "cell_type": "code",
   "execution_count": 10,
   "id": "316c9357",
   "metadata": {},
   "outputs": [
    {
     "data": {
      "text/plain": [
       "<AxesSubplot:xlabel='TV'>"
      ]
     },
     "execution_count": 10,
     "metadata": {},
     "output_type": "execute_result"
    },
    {
     "data": {
      "image/png": "[encoded data removed]",
      "text/plain": [
       "<Figure size 432x288 with 1 Axes>"
      ]
     },
     "metadata": {
      "needs_background": "light"
     },
     "output_type": "display_data"
    }
   ],
   "source": [
    "sns.boxplot(df['TV'])"
   ]
  },
  {
   "cell_type": "markdown",
   "id": "e78dd296",
   "metadata": {},
   "source": [
    "There are not outliers in column TV\n",
    "\n",
    "sns.boxplot(df['radio'])\n",
    "\n",
    "There is not outlier present in 'radio' column"
   ]
  },
  {
   "cell_type": "code",
   "execution_count": 11,
   "id": "267f5faf",
   "metadata": {},
   "outputs": [
    {
     "data": {
      "text/plain": [
       "<AxesSubplot:xlabel='newspaper'>"
      ]
     },
     "execution_count": 11,
     "metadata": {},
     "output_type": "execute_result"
    },
    {
     "data": {
      "image/png": "[encoded data removed]",
      "text/plain": [
       "<Figure size 432x288 with 1 Axes>"
      ]
     },
     "metadata": {
      "needs_background": "light"
     },
     "output_type": "display_data"
    }
   ],
   "source": [
    "sns.boxplot(df['newspaper'])"
   ]
  },
  {
   "cell_type": "markdown",
   "id": "d200c773",
   "metadata": {},
   "source": [
    "\n",
    "We can see there are 2 outliers present in 'newspaper' column"
   ]
  },
  {
   "cell_type": "code",
   "execution_count": 12,
   "id": "322b3837",
   "metadata": {},
   "outputs": [
    {
     "data": {
      "text/plain": [
       "<AxesSubplot:xlabel='sales'>"
      ]
     },
     "execution_count": 12,
     "metadata": {},
     "output_type": "execute_result"
    },
    {
     "data": {
      "image/png": "[encoded data removed]",
      "text/plain": [
       "<Figure size 432x288 with 1 Axes>"
      ]
     },
     "metadata": {
      "needs_background": "light"
     },
     "output_type": "display_data"
    }
   ],
   "source": [
    "sns.boxplot(df['sales'])"
   ]
  },
  {
   "cell_type": "markdown",
   "id": "12150176",
   "metadata": {},
   "source": [
    "There is no outlier present in 'sales' column."
   ]
  },
  {
   "cell_type": "markdown",
   "id": "f84b7f54",
   "metadata": {},
   "source": [
    "# Removal of Outliers"
   ]
  },
  {
   "cell_type": "code",
   "execution_count": 13,
   "id": "84ac54b6",
   "metadata": {},
   "outputs": [
    {
     "data": {
      "image/png": "[encoded data removed]",
      "text/plain": [
       "<Figure size 432x288 with 1 Axes>"
      ]
     },
     "metadata": {
      "needs_background": "light"
     },
     "output_type": "display_data"
    }
   ],
   "source": [
    "sns.distplot(df['newspaper']);"
   ]
  },
  {
   "cell_type": "markdown",
   "id": "757b9063",
   "metadata": {},
   "source": [
    "The distribution plot of the count values reveals that the count values do not match a\n",
    "\n",
    "normal distribution. We will use the median and interquartile range (IQR) to identify and\n",
    "\n",
    "remove outliers from the data. (An alternative approach would be the transformation of the\n",
    "\n",
    "target values to a normal distribution and using mean and standard deviation"
   ]
  },
  {
   "cell_type": "code",
   "execution_count": 14,
   "id": "be1c52ce",
   "metadata": {},
   "outputs": [
    {
     "name": "stdout",
     "output_type": "stream",
     "text": [
      "Samples in dataset with outliers: 200\n",
      "Samples in dataset without outliers: 198\n"
     ]
    },
    {
     "data": {
      "image/png": "[encoded data removed]",
      "text/plain": [
       "<Figure size 432x288 with 1 Axes>"
      ]
     },
     "metadata": {
      "needs_background": "light"
     },
     "output_type": "display_data"
    }
   ],
   "source": [
    "print(\"Samples in dataset with outliers: {}\".format(len(df)))\n",
    "q1 = df.newspaper.quantile(0.25)\n",
    "q3 = df.newspaper.quantile(0.75)\n",
    "iqr = q3 - q1\n",
    "lower_bound = q1 -(1.5 * iqr) \n",
    "upper_bound = q3 +(1.5 * iqr) \n",
    "df_preprocessed = df.loc[(df.newspaper >= lower_bound) & (df.newspaper <= upper_bound)]\n",
    "print(\"Samples in dataset without outliers: {}\".format(len(df_preprocessed)))\n",
    "sns.distplot(df_preprocessed.newspaper);"
   ]
  },
  {
   "cell_type": "markdown",
   "id": "8a680921",
   "metadata": {},
   "source": [
    "Now the outliers have been removed."
   ]
  },
  {
   "cell_type": "markdown",
   "id": "cced2740",
   "metadata": {},
   "source": [
    "# Checking Skewness in the Dataset"
   ]
  },
  {
   "cell_type": "code",
   "execution_count": 15,
   "id": "6230d006",
   "metadata": {},
   "outputs": [
    {
     "data": {
      "text/plain": [
       "array([[<AxesSubplot:title={'center':'Unnamed: 0'}>,\n",
       "        <AxesSubplot:title={'center':'TV'}>,\n",
       "        <AxesSubplot:title={'center':'radio'}>],\n",
       "       [<AxesSubplot:title={'center':'newspaper'}>,\n",
       "        <AxesSubplot:title={'center':'sales'}>, <AxesSubplot:>]],\n",
       "      dtype=object)"
      ]
     },
     "execution_count": 15,
     "metadata": {},
     "output_type": "execute_result"
    },
    {
     "data": {
      "image/png": "[encoded data removed]",
      "text/plain": [
       "<Figure size 1440x1440 with 6 Axes>"
      ]
     },
     "metadata": {
      "needs_background": "light"
     },
     "output_type": "display_data"
    }
   ],
   "source": [
    "df.hist(figsize=(20,20), grid = True, layout = (2,3), bins = 30)"
   ]
  },
  {
   "cell_type": "markdown",
   "id": "07aa34de",
   "metadata": {},
   "source": [
    "From above visualization ,we can see that column 'newspaper' is somewhat skewed."
   ]
  },
  {
   "cell_type": "markdown",
   "id": "4776236e",
   "metadata": {},
   "source": [
    "# Removal of Skewness"
   ]
  },
  {
   "cell_type": "markdown",
   "id": "61f36b0f",
   "metadata": {},
   "source": [
    "\n",
    "We will take the log of the 'newspaper' column to remove the skewness"
   ]
  },
  {
   "cell_type": "code",
   "execution_count": 16,
   "id": "584caae4",
   "metadata": {},
   "outputs": [],
   "source": [
    "df['newspaper']=np.log(df['newspaper'])"
   ]
  },
  {
   "cell_type": "markdown",
   "id": "5abf3d62",
   "metadata": {},
   "source": [
    "# Correlation Analysis"
   ]
  },
  {
   "cell_type": "code",
   "execution_count": 17,
   "id": "4fd8053e",
   "metadata": {},
   "outputs": [
    {
     "data": {
      "text/html": [
       "<div>\n",
       "<style scoped>\n",
       "    .dataframe tbody tr th:only-of-type {\n",
       "        vertical-align: middle;\n",
       "    }\n",
       "\n",
       "    .dataframe tbody tr th {\n",
       "        vertical-align: top;\n",
       "    }\n",
       "\n",
       "    .dataframe thead th {\n",
       "        text-align: right;\n",
       "    }\n",
       "</style>\n",
       "<table border=\"1\" class=\"dataframe\">\n",
       "  <thead>\n",
       "    <tr style=\"text-align: right;\">\n",
       "      <th></th>\n",
       "      <th>Unnamed: 0</th>\n",
       "      <th>TV</th>\n",
       "      <th>radio</th>\n",
       "      <th>newspaper</th>\n",
       "      <th>sales</th>\n",
       "    </tr>\n",
       "  </thead>\n",
       "  <tbody>\n",
       "    <tr>\n",
       "      <th>Unnamed: 0</th>\n",
       "      <td>1.000000</td>\n",
       "      <td>0.017715</td>\n",
       "      <td>-0.110680</td>\n",
       "      <td>-0.103069</td>\n",
       "      <td>-0.051616</td>\n",
       "    </tr>\n",
       "    <tr>\n",
       "      <th>TV</th>\n",
       "      <td>0.017715</td>\n",
       "      <td>1.000000</td>\n",
       "      <td>0.054809</td>\n",
       "      <td>0.024189</td>\n",
       "      <td>0.782224</td>\n",
       "    </tr>\n",
       "    <tr>\n",
       "      <th>radio</th>\n",
       "      <td>-0.110680</td>\n",
       "      <td>0.054809</td>\n",
       "      <td>1.000000</td>\n",
       "      <td>0.237159</td>\n",
       "      <td>0.576223</td>\n",
       "    </tr>\n",
       "    <tr>\n",
       "      <th>newspaper</th>\n",
       "      <td>-0.103069</td>\n",
       "      <td>0.024189</td>\n",
       "      <td>0.237159</td>\n",
       "      <td>1.000000</td>\n",
       "      <td>0.151936</td>\n",
       "    </tr>\n",
       "    <tr>\n",
       "      <th>sales</th>\n",
       "      <td>-0.051616</td>\n",
       "      <td>0.782224</td>\n",
       "      <td>0.576223</td>\n",
       "      <td>0.151936</td>\n",
       "      <td>1.000000</td>\n",
       "    </tr>\n",
       "  </tbody>\n",
       "</table>\n",
       "</div>"
      ],
      "text/plain": [
       "            Unnamed: 0        TV     radio  newspaper     sales\n",
       "Unnamed: 0    1.000000  0.017715 -0.110680  -0.103069 -0.051616\n",
       "TV            0.017715  1.000000  0.054809   0.024189  0.782224\n",
       "radio        -0.110680  0.054809  1.000000   0.237159  0.576223\n",
       "newspaper    -0.103069  0.024189  0.237159   1.000000  0.151936\n",
       "sales        -0.051616  0.782224  0.576223   0.151936  1.000000"
      ]
     },
     "execution_count": 17,
     "metadata": {},
     "output_type": "execute_result"
    }
   ],
   "source": [
    "df.corr()"
   ]
  },
  {
   "cell_type": "code",
   "execution_count": 18,
   "id": "7dcdd557",
   "metadata": {},
   "outputs": [
    {
     "data": {
      "text/plain": [
       "<AxesSubplot:>"
      ]
     },
     "execution_count": 18,
     "metadata": {},
     "output_type": "execute_result"
    },
    {
     "data": {
      "image/png": "[encoded data removed]",
      "text/plain": [
       "<Figure size 504x504 with 2 Axes>"
      ]
     },
     "metadata": {
      "needs_background": "light"
     },
     "output_type": "display_data"
    }
   ],
   "source": [
    "plt.figure(figsize=(7,7))\n",
    "sns.heatmap(df.corr(),color ='k',annot=True)"
   ]
  },
  {
   "cell_type": "markdown",
   "id": "fc46c8d8",
   "metadata": {},
   "source": [
    "After descriptive analysis we can say that--\n",
    "\n",
    "Strong relationship between TV ads and sales\n",
    "\n",
    "Weak relationship between Radio ads and sales\n",
    "\n",
    "Very weak to no relationship between Newspaper ads and sales\n",
    "\n",
    "visualize the relationship between the features and the response using scatterplots\n",
    "\n",
    "this produces pairs of scatterplot as shown\n",
    "\n",
    "use aspect= to control the size of the graphs\n",
    "\n",
    "use kind='reg' to plot linear regression on the grap"
   ]
  },
  {
   "cell_type": "code",
   "execution_count": 19,
   "id": "985f065b",
   "metadata": {},
   "outputs": [
    {
     "data": {
      "text/plain": [
       "<seaborn.axisgrid.PairGrid at 0x285f8685e20>"
      ]
     },
     "execution_count": 19,
     "metadata": {},
     "output_type": "execute_result"
    },
    {
     "data": {
      "image/png": "[encoded data removed]",
      "text/plain": [
       "<Figure size 1843.2x576 with 5 Axes>"
      ]
     },
     "metadata": {
      "needs_background": "light"
     },
     "output_type": "display_data"
    }
   ],
   "source": [
    "sns.pairplot(df,x_vars=['TV','radio','newspaper','sales'],y_vars='sales',size=8,aspect=.8,kind='reg')"
   ]
  },
  {
   "cell_type": "markdown",
   "id": "67649b73",
   "metadata": {},
   "source": [
    "Strong relationship between TV ads and sales\n",
    "\n",
    "Weak relationship between Radio ads and sales\n",
    "\n",
    "Very weak to no relationship between Newspaper ads and sales"
   ]
  },
  {
   "cell_type": "code",
   "execution_count": 20,
   "id": "f416a085",
   "metadata": {},
   "outputs": [
    {
     "data": {
      "text/plain": [
       "<AxesSubplot:xlabel='sales'>"
      ]
     },
     "execution_count": 20,
     "metadata": {},
     "output_type": "execute_result"
    },
    {
     "data": {
      "image/png": "[encoded data removed]",
      "text/plain": [
       "<Figure size 432x288 with 1 Axes>"
      ]
     },
     "metadata": {
      "needs_background": "light"
     },
     "output_type": "display_data"
    }
   ],
   "source": [
    "#plotting the graph for visualizing better the distribution of \"sales\" variable.\n",
    "sns.violinplot(x='sales', data=df)"
   ]
  },
  {
   "cell_type": "code",
   "execution_count": 21,
   "id": "7b85044b",
   "metadata": {},
   "outputs": [
    {
     "data": {
      "text/plain": [
       "<AxesSubplot:xlabel='TV'>"
      ]
     },
     "execution_count": 21,
     "metadata": {},
     "output_type": "execute_result"
    },
    {
     "data": {
      "image/png": "[encoded data removed]",
      "text/plain": [
       "<Figure size 432x288 with 1 Axes>"
      ]
     },
     "metadata": {
      "needs_background": "light"
     },
     "output_type": "display_data"
    }
   ],
   "source": [
    "#plotting the graph for visualizing better the distribution of \"TV\" variable.\n",
    "sns.violinplot(x='TV', data=df)"
   ]
  },
  {
   "cell_type": "code",
   "execution_count": 22,
   "id": "45abed9e",
   "metadata": {},
   "outputs": [
    {
     "data": {
      "text/plain": [
       "<AxesSubplot:xlabel='radio'>"
      ]
     },
     "execution_count": 22,
     "metadata": {},
     "output_type": "execute_result"
    },
    {
     "data": {
      "image/png": "[encoded data removed]",
      "text/plain": [
       "<Figure size 432x288 with 1 Axes>"
      ]
     },
     "metadata": {
      "needs_background": "light"
     },
     "output_type": "display_data"
    }
   ],
   "source": [
    "#plotting the graph for visualizing better the distribution of \"radio\" variable.\n",
    "sns.violinplot(x='radio', data=df)"
   ]
  },
  {
   "cell_type": "code",
   "execution_count": 23,
   "id": "549e262c",
   "metadata": {},
   "outputs": [
    {
     "data": {
      "text/plain": [
       "<AxesSubplot:xlabel='newspaper'>"
      ]
     },
     "execution_count": 23,
     "metadata": {},
     "output_type": "execute_result"
    },
    {
     "data": {
      "image/png": "[encoded data removed]",
      "text/plain": [
       "<Figure size 432x288 with 1 Axes>"
      ]
     },
     "metadata": {
      "needs_background": "light"
     },
     "output_type": "display_data"
    }
   ],
   "source": [
    "#plotting the graph for visualizing better the distribution of \"newspaper\" variable.\n",
    "sns.violinplot(x='newspaper', data=df)"
   ]
  },
  {
   "cell_type": "code",
   "execution_count": 25,
   "id": "9702e9d9",
   "metadata": {},
   "outputs": [
    {
     "data": {
      "text/plain": [
       "Index(['Unnamed: 0', 'TV', 'radio', 'newspaper', 'sales'], dtype='object')"
      ]
     },
     "execution_count": 25,
     "metadata": {},
     "output_type": "execute_result"
    }
   ],
   "source": [
    "df.columns"
   ]
  },
  {
   "cell_type": "markdown",
   "id": "d57eaa4e",
   "metadata": {},
   "source": [
    "Preparing X and y using pandas\n",
    "\n",
    "scikit-learn expects X (feature matrix) and y (response vector) to be NumPy arrays\n",
    "\n",
    "However, pandas is built on top of NumPy\n",
    "\n",
    "Thus, X can be a pandas DataFrame (matrix) and y can be a pandas Series (vector)"
   ]
  },
  {
   "cell_type": "code",
   "execution_count": 26,
   "id": "2f070101",
   "metadata": {},
   "outputs": [
    {
     "data": {
      "text/html": [
       "<div>\n",
       "<style scoped>\n",
       "    .dataframe tbody tr th:only-of-type {\n",
       "        vertical-align: middle;\n",
       "    }\n",
       "\n",
       "    .dataframe tbody tr th {\n",
       "        vertical-align: top;\n",
       "    }\n",
       "\n",
       "    .dataframe thead th {\n",
       "        text-align: right;\n",
       "    }\n",
       "</style>\n",
       "<table border=\"1\" class=\"dataframe\">\n",
       "  <thead>\n",
       "    <tr style=\"text-align: right;\">\n",
       "      <th></th>\n",
       "      <th>TV</th>\n",
       "      <th>radio</th>\n",
       "      <th>newspaper</th>\n",
       "    </tr>\n",
       "  </thead>\n",
       "  <tbody>\n",
       "    <tr>\n",
       "      <th>0</th>\n",
       "      <td>230.1</td>\n",
       "      <td>37.8</td>\n",
       "      <td>4.237001</td>\n",
       "    </tr>\n",
       "    <tr>\n",
       "      <th>1</th>\n",
       "      <td>44.5</td>\n",
       "      <td>39.3</td>\n",
       "      <td>3.808882</td>\n",
       "    </tr>\n",
       "    <tr>\n",
       "      <th>2</th>\n",
       "      <td>17.2</td>\n",
       "      <td>45.9</td>\n",
       "      <td>4.238445</td>\n",
       "    </tr>\n",
       "    <tr>\n",
       "      <th>3</th>\n",
       "      <td>151.5</td>\n",
       "      <td>41.3</td>\n",
       "      <td>4.069027</td>\n",
       "    </tr>\n",
       "    <tr>\n",
       "      <th>4</th>\n",
       "      <td>180.8</td>\n",
       "      <td>10.8</td>\n",
       "      <td>4.067316</td>\n",
       "    </tr>\n",
       "  </tbody>\n",
       "</table>\n",
       "</div>"
      ],
      "text/plain": [
       "      TV  radio  newspaper\n",
       "0  230.1   37.8   4.237001\n",
       "1   44.5   39.3   3.808882\n",
       "2   17.2   45.9   4.238445\n",
       "3  151.5   41.3   4.069027\n",
       "4  180.8   10.8   4.067316"
      ]
     },
     "execution_count": 26,
     "metadata": {},
     "output_type": "execute_result"
    }
   ],
   "source": [
    "# create a Python list of feature names\n",
    "feature_cols = ['TV', 'radio', 'newspaper']\n",
    "\n",
    "# use the list to select a subset of the original DataFrame\n",
    "X = df[feature_cols]\n",
    "\n",
    "# equivalent command to do this in one line using double square brackets\n",
    "# inner bracket is a list\n",
    "# outer bracker accesses a subset of the original DataFrame\n",
    "X = df[['TV', 'radio', 'newspaper']]\n",
    "\n",
    "# print the first 5 rows\n",
    "X.head()"
   ]
  },
  {
   "cell_type": "code",
   "execution_count": 27,
   "id": "88f9751b",
   "metadata": {},
   "outputs": [
    {
     "name": "stdout",
     "output_type": "stream",
     "text": [
      "<class 'pandas.core.frame.DataFrame'>\n",
      "(200, 3)\n"
     ]
    }
   ],
   "source": [
    "\n",
    "# check the type and shape of X\n",
    "print(type(X))\n",
    "print(X.shape)"
   ]
  },
  {
   "cell_type": "code",
   "execution_count": 28,
   "id": "7e8a2e46",
   "metadata": {},
   "outputs": [
    {
     "data": {
      "text/plain": [
       "0    22.1\n",
       "1    10.4\n",
       "2     9.3\n",
       "3    18.5\n",
       "4    12.9\n",
       "Name: sales, dtype: float64"
      ]
     },
     "execution_count": 28,
     "metadata": {},
     "output_type": "execute_result"
    }
   ],
   "source": [
    "# select a Series from the DataFrame\n",
    "y = df['sales']\n",
    "\n",
    "# equivalent command that works if there are no spaces in the column name\n",
    "# you can select the sales as an attribute of the DataFrame\n",
    "y = df.sales\n",
    "\n",
    "# print the first 5 values\n",
    "y.head()"
   ]
  },
  {
   "cell_type": "code",
   "execution_count": 29,
   "id": "0f2a9264",
   "metadata": {},
   "outputs": [
    {
     "name": "stdout",
     "output_type": "stream",
     "text": [
      "<class 'pandas.core.series.Series'>\n",
      "(200,)\n"
     ]
    }
   ],
   "source": [
    "# check the type and shape of y\n",
    "print(type(y))\n",
    "print(y.shape)"
   ]
  },
  {
   "cell_type": "markdown",
   "id": "f00eab43",
   "metadata": {},
   "source": [
    "# Divide the dataset into training and testing set"
   ]
  },
  {
   "cell_type": "code",
   "execution_count": 31,
   "id": "9665cbff",
   "metadata": {},
   "outputs": [],
   "source": [
    "X_train, X_test, y_train, y_test = train_test_split(X, y, random_state=1)"
   ]
  },
  {
   "cell_type": "code",
   "execution_count": 32,
   "id": "f886db59",
   "metadata": {},
   "outputs": [
    {
     "name": "stdout",
     "output_type": "stream",
     "text": [
      "(150, 3)\n",
      "(50, 3)\n",
      "(150,)\n",
      "(50,)\n"
     ]
    }
   ],
   "source": [
    "# default split is 75% for training and 25% for testing\n",
    "print(X_train.shape)\n",
    "print(X_test.shape)\n",
    "print(y_train.shape)\n",
    "print(y_test.shape)"
   ]
  },
  {
   "cell_type": "markdown",
   "id": "ffc05d93",
   "metadata": {},
   "source": [
    "# Using Standard Scaling for making Data Standardized"
   ]
  },
  {
   "cell_type": "code",
   "execution_count": 33,
   "id": "3db28b38",
   "metadata": {},
   "outputs": [],
   "source": [
    "from sklearn.preprocessing import StandardScaler\n",
    "sc = StandardScaler()\n",
    "X_train=sc.fit_transform(X_train)\n",
    "X_test=sc.fit_transform(X_test)"
   ]
  },
  {
   "cell_type": "markdown",
   "id": "e5887140",
   "metadata": {},
   "source": [
    "# Model Selection"
   ]
  },
  {
   "cell_type": "markdown",
   "id": "bb4971fc",
   "metadata": {},
   "source": [
    "Model Selection\n",
    "The characteristics of the given problem are:\n",
    "\n",
    "Regression: The target variable is a quantity.\n",
    "\n",
    "Small dataset: Less than 100K samples.\n",
    "\n",
    "Few features should be important: The correlation matrix indicates that a few features contain the information to predict the target variable.\n",
    "\n",
    "This characteristic makes the following methods most promising: Ridge Regression, Support Vector Regression, Ensemble Regressor, Random Forest Regressor.\n",
    "\n",
    "Overview Metrics Mean Squared Error (MSE)\n",
    "\n",
    "Root Mean Squared Logarithmic Error (RMSLE) RMSLE\n",
    "\n",
    "R2 Score\n",
    "\n",
    "We will evaluate the performance of these models in the following:"
   ]
  },
  {
   "cell_type": "code",
   "execution_count": 34,
   "id": "da22d66e",
   "metadata": {},
   "outputs": [],
   "source": [
    "from sklearn.metrics import r2_score\n",
    "model= [\n",
    "    Lasso(alpha=0.1),\n",
    "    Ridge(alpha=.5),\n",
    "    \n",
    "    RandomForestRegressor( random_state=0, n_estimators=300)\n",
    "]"
   ]
  },
  {
   "cell_type": "code",
   "execution_count": 35,
   "id": "ad23056c",
   "metadata": {},
   "outputs": [
    {
     "name": "stdout",
     "output_type": "stream",
     "text": [
      "mean absolute error  1.4312594905411122\n",
      "mean squared error  2.7667507089296044\n",
      "root mean squared error  1.6633552563807903\n",
      "\n",
      "\n",
      "mean absolute error  1.4337686437197903\n",
      "mean squared error  2.87204478927581\n",
      "root mean squared error  1.6947108276268874\n",
      "\n",
      "\n",
      "mean absolute error  1.102420000000008\n",
      "mean squared error  2.7322414022222334\n",
      "root mean squared error  1.6529493041900085\n",
      "\n",
      "\n"
     ]
    }
   ],
   "source": [
    "for m in model:\n",
    "    m.fit(X_train,y_train)\n",
    "    m.score(X_train,y_train)\n",
    "    pred=m.predict(X_test)\n",
    "    print('mean absolute error ',(mean_absolute_error(y_test,pred)))\n",
    "    print('mean squared error ',(mean_squared_error(y_test,pred)))\n",
    "    print(\"root mean squared error \" ,np.sqrt(mean_squared_error(y_test,pred)))\n",
    "    print('\\n')"
   ]
  },
  {
   "cell_type": "markdown",
   "id": "feede175",
   "metadata": {},
   "source": [
    "# Hyper Parameter Tuning"
   ]
  },
  {
   "cell_type": "markdown",
   "id": "c6b2ce90",
   "metadata": {},
   "source": [
    "As we see above scores, the minimum error is given by 'Random Forest Regressor'\n",
    "\n",
    "So we will choose Randon Forest Regressor for further improvement"
   ]
  },
  {
   "cell_type": "code",
   "execution_count": 36,
   "id": "062692f5",
   "metadata": {},
   "outputs": [],
   "source": [
    "rf=RandomForestRegressor(n_estimators=300,random_state=0)"
   ]
  },
  {
   "cell_type": "code",
   "execution_count": 37,
   "id": "762dd370",
   "metadata": {},
   "outputs": [
    {
     "data": {
      "text/plain": [
       "RandomForestRegressor(n_estimators=300, random_state=0)"
      ]
     },
     "execution_count": 37,
     "metadata": {},
     "output_type": "execute_result"
    }
   ],
   "source": [
    "rf.fit(X_train,y_train)"
   ]
  },
  {
   "cell_type": "code",
   "execution_count": 38,
   "id": "51bfeda1",
   "metadata": {},
   "outputs": [
    {
     "data": {
      "text/plain": [
       "0.9966344313158572"
      ]
     },
     "execution_count": 38,
     "metadata": {},
     "output_type": "execute_result"
    }
   ],
   "source": [
    "rf.score(X_train,y_train)"
   ]
  },
  {
   "cell_type": "code",
   "execution_count": 39,
   "id": "0aee7a8f",
   "metadata": {},
   "outputs": [
    {
     "data": {
      "text/plain": [
       "array([22.87066667, 15.58233333,  9.13666667, 13.09966667, 16.16433333,\n",
       "       25.58833333, 16.562     , 12.54766667, 10.168     , 16.18266667,\n",
       "       14.39033333, 10.16233333, 16.33566667, 14.833     , 12.08866667,\n",
       "       14.772     , 12.517     , 11.779     ,  3.054     , 18.005     ,\n",
       "        9.57333333, 10.82966667,  3.97733333, 10.25833333, 11.655     ,\n",
       "       14.56433333,  7.258     , 19.305     , 18.47533333, 15.55466667,\n",
       "       23.36566667, 11.50166667, 16.558     , 11.42233333, 20.047     ,\n",
       "       14.908     , 11.50833333, 10.612     , 21.91966667,  3.243     ,\n",
       "        3.848     ,  9.00666667,  3.932     , 18.287     ,  3.91333333,\n",
       "       13.64733333, 12.27633333, 21.65366667, 21.57866667, 19.88466667])"
      ]
     },
     "execution_count": 39,
     "metadata": {},
     "output_type": "execute_result"
    }
   ],
   "source": [
    "pred=rf.predict(X_test)\n",
    "pred"
   ]
  },
  {
   "cell_type": "code",
   "execution_count": 40,
   "id": "e6e8e3cb",
   "metadata": {},
   "outputs": [
    {
     "name": "stdout",
     "output_type": "stream",
     "text": [
      "mean absolute error  1.102420000000008\n",
      "mean squared error  2.7322414022222334\n",
      "root mean squared error  1.6529493041900085\n"
     ]
    }
   ],
   "source": [
    "print('mean absolute error ',(mean_absolute_error(y_test,pred)))\n",
    "print('mean squared error ',(mean_squared_error(y_test,pred)))\n",
    "print(\"root mean squared error \" ,np.sqrt(mean_squared_error(y_test,pred)))"
   ]
  },
  {
   "cell_type": "code",
   "execution_count": 41,
   "id": "704b6c2e",
   "metadata": {},
   "outputs": [
    {
     "name": "stdout",
     "output_type": "stream",
     "text": [
      "0.8831538371240732\n"
     ]
    }
   ],
   "source": [
    "from sklearn.metrics import r2_score\n",
    "print(r2_score(y_test,pred))"
   ]
  },
  {
   "cell_type": "markdown",
   "id": "8b3e0547",
   "metadata": {},
   "source": [
    "# Cross Validation Score on Random Forest Regressor"
   ]
  },
  {
   "cell_type": "code",
   "execution_count": 42,
   "id": "e9f6c4b7",
   "metadata": {},
   "outputs": [
    {
     "data": {
      "text/plain": [
       "0.9682479034973387"
      ]
     },
     "execution_count": 42,
     "metadata": {},
     "output_type": "execute_result"
    }
   ],
   "source": [
    "#Now lets try to do some evaluation for random forest model using cross validation.\n",
    "rfc_eval = cross_val_score(estimator = rf, X = X_train, y = y_train, cv = 10)\n",
    "rfc_eval.mean()"
   ]
  },
  {
   "cell_type": "code",
   "execution_count": 43,
   "id": "5e75e77f",
   "metadata": {},
   "outputs": [
    {
     "name": "stdout",
     "output_type": "stream",
     "text": [
      "0.8831538371240732\n"
     ]
    }
   ],
   "source": [
    "print(r2_score(y_test,pred))"
   ]
  },
  {
   "cell_type": "markdown",
   "id": "17daabb6",
   "metadata": {},
   "source": [
    "# Linear Regression"
   ]
  },
  {
   "cell_type": "code",
   "execution_count": 44,
   "id": "8937c399",
   "metadata": {},
   "outputs": [
    {
     "data": {
      "text/plain": [
       "0.8905174794880327"
      ]
     },
     "execution_count": 44,
     "metadata": {},
     "output_type": "execute_result"
    }
   ],
   "source": [
    "lr=LinearRegression()\n",
    "lr.fit(X_train,y_train)\n",
    "lr.score(X_train,y_train)"
   ]
  },
  {
   "cell_type": "code",
   "execution_count": 45,
   "id": "b7ffeddc",
   "metadata": {},
   "outputs": [
    {
     "data": {
      "text/plain": [
       "array([21.68030531, 15.87232863,  6.13628407, 17.38280211, 18.28222863,\n",
       "       23.96993315, 15.76989418, 12.58900164,  7.94976571, 16.86370035,\n",
       "       13.71500406,  8.65688019, 16.55593099, 16.22274208, 14.36621709,\n",
       "       14.94864048, 11.51181535, 16.61780301,  9.98054816, 17.54335894,\n",
       "        7.89151885, 11.98826941,  7.54505951,  9.25794285, 10.37214671,\n",
       "       14.30149239,  8.63075713, 19.13120571, 17.63750088, 16.64538167,\n",
       "       21.47809938, 13.92000176, 15.57659374, 11.3932633 , 19.70385512,\n",
       "       14.67287057, 13.05809146,  8.88707659, 20.82348175,  6.04208246,\n",
       "        1.89553722,  5.80049378,  4.46697068, 18.08513893,  7.10383907,\n",
       "       13.30858906, 14.36426168, 20.19761993, 20.41501688, 19.32399073])"
      ]
     },
     "execution_count": 45,
     "metadata": {},
     "output_type": "execute_result"
    }
   ],
   "source": [
    "pred=lr.predict(X_test)\n",
    "pred"
   ]
  },
  {
   "cell_type": "code",
   "execution_count": 47,
   "id": "8c2c43bd",
   "metadata": {},
   "outputs": [
    {
     "name": "stdout",
     "output_type": "stream",
     "text": [
      "mean absolute error  1.4348580802124302\n",
      "mean squared error  2.885277469274064\n",
      "root mean squared error  1.6986104524799275\n"
     ]
    }
   ],
   "source": [
    "print('mean absolute error ',(mean_absolute_error(y_test,pred)))\n",
    "print('mean squared error ',(mean_squared_error(y_test,pred)))\n",
    "print(\"root mean squared error \" ,np.sqrt(mean_squared_error(y_test,pred)))"
   ]
  },
  {
   "cell_type": "code",
   "execution_count": 48,
   "id": "558ff219",
   "metadata": {},
   "outputs": [
    {
     "name": "stdout",
     "output_type": "stream",
     "text": [
      "0.8766091455744592\n"
     ]
    }
   ],
   "source": [
    "print(r2_score(y_test,pred))"
   ]
  },
  {
   "cell_type": "markdown",
   "id": "ff8f8dab",
   "metadata": {},
   "source": [
    "# Cross Validation on Linear Regression Model"
   ]
  },
  {
   "cell_type": "code",
   "execution_count": 49,
   "id": "c40a7b3c",
   "metadata": {},
   "outputs": [
    {
     "data": {
      "text/plain": [
       "0.860455218329308"
      ]
     },
     "execution_count": 49,
     "metadata": {},
     "output_type": "execute_result"
    }
   ],
   "source": [
    "# Now lets try to do some evaluation for linear regressor using cross validation.\n",
    "lr_eval = cross_val_score(estimator = lr, X = X_train, y = y_train, cv = 10)\n",
    "lr_eval.mean()"
   ]
  },
  {
   "cell_type": "markdown",
   "id": "ba1c01db",
   "metadata": {},
   "source": [
    "# Using Ensemble Technique to avoid Overfitting"
   ]
  },
  {
   "cell_type": "markdown",
   "id": "4e45e703",
   "metadata": {},
   "source": [
    "'Using Adaboost Regressor'"
   ]
  },
  {
   "cell_type": "code",
   "execution_count": 50,
   "id": "aa0f560d",
   "metadata": {},
   "outputs": [
    {
     "name": "stdout",
     "output_type": "stream",
     "text": [
      "0.9746924246654368\n",
      "[22.58780488 16.34545455 10.76363636 13.44285714 16.82162162 24.78125\n",
      " 16.26666667 12.78181818  9.79411765 16.91428571 14.75714286 10.34090909\n",
      " 16.82162162 14.675      12.78181818 15.44864865 13.15384615 12.52857143\n",
      "  2.4        19.09032258 10.76363636 10.7         3.8        11.09565217\n",
      " 11.78       14.75714286  7.6        19.17222222 17.67021277 14.75714286\n",
      " 23.41935484 12.58888889 16.26666667 11.81       19.37647059 15.365625\n",
      " 12.5        11.33529412 22.03333333  3.8         3.8        10.55517241\n",
      "  3.8        19.22424242  3.1125     14.68139535 11.97222222 22.22592593\n",
      " 21.91388889 19.41428571]\n"
     ]
    },
    {
     "data": {
      "text/plain": [
       "0.8745023192886218"
      ]
     },
     "execution_count": 50,
     "metadata": {},
     "output_type": "execute_result"
    }
   ],
   "source": [
    "from sklearn.ensemble import AdaBoostRegressor\n",
    "adboost=AdaBoostRegressor()\n",
    "adboost.fit(X_train,y_train)\n",
    "print(adboost.score(X_train,y_train))\n",
    "abpred=adboost.predict(X_test)\n",
    "print(abpred)\n",
    "adboost.score(X_test,y_test)"
   ]
  },
  {
   "cell_type": "code",
   "execution_count": 51,
   "id": "9008d68f",
   "metadata": {},
   "outputs": [
    {
     "name": "stdout",
     "output_type": "stream",
     "text": [
      "0.8745023192886218\n"
     ]
    }
   ],
   "source": [
    "print(r2_score(y_test,abpred))"
   ]
  },
  {
   "cell_type": "markdown",
   "id": "77e0a735",
   "metadata": {},
   "source": [
    "# Cross Validation on AdaBooster Model"
   ]
  },
  {
   "cell_type": "code",
   "execution_count": 52,
   "id": "973363d9",
   "metadata": {},
   "outputs": [
    {
     "data": {
      "text/plain": [
       "0.9375791591320602"
      ]
     },
     "execution_count": 52,
     "metadata": {},
     "output_type": "execute_result"
    }
   ],
   "source": [
    "#Now lets try to do some evaluation for random forest model using cross validation.\n",
    "ada_eval = cross_val_score(estimator = adboost, X = X_train, y = y_train, cv = 10)\n",
    "ada_eval.mean()"
   ]
  },
  {
   "cell_type": "markdown",
   "id": "da2cdcfa",
   "metadata": {},
   "source": [
    "If we observe all the values above ,we can see the Maximum Score comes in AdaBooster Model after Cross\n",
    "\n",
    "Validation Technique i.e. 94%.Hence saving th best model and it's values.\n",
    "\n",
    "which is AdaBoost Regressor"
   ]
  },
  {
   "cell_type": "markdown",
   "id": "fc275d92",
   "metadata": {},
   "source": [
    "# Storing the predicted results in csv file"
   ]
  },
  {
   "cell_type": "code",
   "execution_count": 53,
   "id": "77b842d7",
   "metadata": {},
   "outputs": [],
   "source": [
    "abpred=pd.DataFrame(abpred,columns=['abpred']).to_csv('Advertising')"
   ]
  },
  {
   "cell_type": "markdown",
   "id": "7b6bc8bf",
   "metadata": {},
   "source": [
    "# Saving the best Model as a pickle in a file"
   ]
  },
  {
   "cell_type": "markdown",
   "id": "e58c7b99",
   "metadata": {},
   "source": [
    "I have selected AdaBoosterRegressor Model as best model as it is giving me best score after\n",
    "\n",
    "performing overfitting"
   ]
  },
  {
   "cell_type": "code",
   "execution_count": 54,
   "id": "3c56db7d",
   "metadata": {},
   "outputs": [
    {
     "data": {
      "text/plain": [
       "['Advertising Sales Channel Prediction.pkl']"
      ]
     },
     "execution_count": 54,
     "metadata": {},
     "output_type": "execute_result"
    }
   ],
   "source": [
    "#to save the model\n",
    "import joblib\n",
    "joblib.dump(model,'Advertising Sales Channel Prediction.pkl')"
   ]
  }
 ],
 "metadata": {
  "kernelspec": {
   "display_name": "Python 3 (ipykernel)",
   "language": "python",
   "name": "python3"
  },
  "language_info": {
   "codemirror_mode": {
    "name": "ipython",
    "version": 3
   },
   "file_extension": ".py",
   "mimetype": "text/x-python",
   "name": "python",
   "nbconvert_exporter": "python",
   "pygments_lexer": "ipython3",
   "version": "3.9.12"
  }
 },
 "nbformat": 4,
 "nbformat_minor": 5
}
